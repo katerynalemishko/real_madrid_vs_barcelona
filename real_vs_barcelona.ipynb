{
 "cells": [
  {
   "cell_type": "markdown",
   "id": "powerful-latest",
   "metadata": {},
   "source": [
    "# Real Madrid vs. Barcelona: Which team was the best in 2008-2016? \n"
   ]
  },
  {
   "cell_type": "markdown",
   "id": "threatened-sally",
   "metadata": {},
   "source": [
    "In this project, I will analyze performance of the two best Spanish football teams, **Real Madrid CF** and **FC Barcelona** in their matches in the Spanish Football League (La Liga) using European Soccer Database containing data from years 2008-2016."
   ]
  },
  {
   "cell_type": "markdown",
   "id": "medieval-booking",
   "metadata": {},
   "source": [
    "<p align=\"center\">\n",
    "  <img \n",
    "    width=\"375\"\n",
    "    height=\"375\"\n",
    "    src=\"Real_Barca.jpg\"\n",
    "  >\n",
    "</p>"
   ]
  },
  {
   "cell_type": "code",
   "execution_count": 1,
   "id": "integrated-camera",
   "metadata": {},
   "outputs": [],
   "source": [
    "# Ignore warnings\n",
    "import warnings\n",
    "warnings.filterwarnings('ignore')\n",
    "\n",
    "#Import packages and set plot parameters \n",
    "import numpy as np\n",
    "import pandas as pd\n",
    "\n",
    "import matplotlib.pyplot as plt\n",
    "from matplotlib.ticker import MaxNLocator\n",
    "import seaborn as sns\n",
    "sns.set(font_scale=1.2)\n",
    "sns.set_style(\"whitegrid\")"
   ]
  },
  {
   "cell_type": "code",
   "execution_count": 2,
   "id": "timely-smile",
   "metadata": {},
   "outputs": [],
   "source": [
    "import sqlite3\n",
    "\n",
    "# Create a SQL connection to our SQLite database\n",
    "con = sqlite3.connect(\"database.sqlite\")"
   ]
  },
  {
   "cell_type": "markdown",
   "id": "experimental-fellow",
   "metadata": {},
   "source": [
    "Firs let's find out the team_api_IDs of the two most successfull spanish football teams, Real Madrid and Barcelona."
   ]
  },
  {
   "cell_type": "code",
   "execution_count": 3,
   "id": "western-switzerland",
   "metadata": {},
   "outputs": [],
   "source": [
    "# Create a data frame from the results of SQL query containing team names and ids\n",
    "ids = pd.read_sql_query(\"SELECT team_long_name, team_api_id \"\\\n",
    "                        \"FROM Team \"\\\n",
    "                        \"WHERE team_long_name IN ('Real Madrid CF', 'FC Barcelona')\", con)"
   ]
  },
  {
   "cell_type": "code",
   "execution_count": 4,
   "id": "framed-newton",
   "metadata": {},
   "outputs": [
    {
     "data": {
      "text/html": [
       "<div>\n",
       "<style scoped>\n",
       "    .dataframe tbody tr th:only-of-type {\n",
       "        vertical-align: middle;\n",
       "    }\n",
       "\n",
       "    .dataframe tbody tr th {\n",
       "        vertical-align: top;\n",
       "    }\n",
       "\n",
       "    .dataframe thead th {\n",
       "        text-align: right;\n",
       "    }\n",
       "</style>\n",
       "<table border=\"1\" class=\"dataframe\">\n",
       "  <thead>\n",
       "    <tr style=\"text-align: right;\">\n",
       "      <th></th>\n",
       "      <th>team_long_name</th>\n",
       "      <th>team_api_id</th>\n",
       "    </tr>\n",
       "  </thead>\n",
       "  <tbody>\n",
       "    <tr>\n",
       "      <th>0</th>\n",
       "      <td>Real Madrid CF</td>\n",
       "      <td>8633</td>\n",
       "    </tr>\n",
       "    <tr>\n",
       "      <th>1</th>\n",
       "      <td>FC Barcelona</td>\n",
       "      <td>8634</td>\n",
       "    </tr>\n",
       "  </tbody>\n",
       "</table>\n",
       "</div>"
      ],
      "text/plain": [
       "   team_long_name  team_api_id\n",
       "0  Real Madrid CF         8633\n",
       "1    FC Barcelona         8634"
      ]
     },
     "execution_count": 4,
     "metadata": {},
     "output_type": "execute_result"
    }
   ],
   "source": [
    "ids.head()"
   ]
  },
  {
   "cell_type": "markdown",
   "id": "daily-salvation",
   "metadata": {},
   "source": [
    "Let's now calculate home many home matches were played at home by Real Madrid, Barcelona and other teams."
   ]
  },
  {
   "cell_type": "code",
   "execution_count": 5,
   "id": "enabling-suspension",
   "metadata": {},
   "outputs": [],
   "source": [
    "# Create a data frame from the result of a SQL query with the official the official team names and the total\n",
    "#number of matches played in la liga\n",
    "home_matches=pd.read_sql_query(\"SELECT \"\\\n",
    "                                  \"CASE WHEN home_team_api_id = 8633 THEN 'Real Madrid CF' \"\\\n",
    "                                       \"WHEN home_team_api_id = 8634 THEN 'FC Barcelona' \"\\\n",
    "                                       \"ELSE 'Other' END AS home_team,\"\\\n",
    "                                 \"COUNT(id) AS total_matches \"\\\n",
    "                               \"FROM Match \"\\\n",
    "                               \"GROUP BY home_team\",con)"
   ]
  },
  {
   "cell_type": "code",
   "execution_count": 6,
   "id": "german-blogger",
   "metadata": {},
   "outputs": [
    {
     "data": {
      "text/html": [
       "<div>\n",
       "<style scoped>\n",
       "    .dataframe tbody tr th:only-of-type {\n",
       "        vertical-align: middle;\n",
       "    }\n",
       "\n",
       "    .dataframe tbody tr th {\n",
       "        vertical-align: top;\n",
       "    }\n",
       "\n",
       "    .dataframe thead th {\n",
       "        text-align: right;\n",
       "    }\n",
       "</style>\n",
       "<table border=\"1\" class=\"dataframe\">\n",
       "  <thead>\n",
       "    <tr style=\"text-align: right;\">\n",
       "      <th></th>\n",
       "      <th>home_team</th>\n",
       "      <th>total_matches</th>\n",
       "    </tr>\n",
       "  </thead>\n",
       "  <tbody>\n",
       "    <tr>\n",
       "      <th>0</th>\n",
       "      <td>FC Barcelona</td>\n",
       "      <td>152</td>\n",
       "    </tr>\n",
       "    <tr>\n",
       "      <th>1</th>\n",
       "      <td>Other</td>\n",
       "      <td>25675</td>\n",
       "    </tr>\n",
       "    <tr>\n",
       "      <th>2</th>\n",
       "      <td>Real Madrid CF</td>\n",
       "      <td>152</td>\n",
       "    </tr>\n",
       "  </tbody>\n",
       "</table>\n",
       "</div>"
      ],
      "text/plain": [
       "        home_team  total_matches\n",
       "0    FC Barcelona            152\n",
       "1           Other          25675\n",
       "2  Real Madrid CF            152"
      ]
     },
     "execution_count": 6,
     "metadata": {},
     "output_type": "execute_result"
    }
   ],
   "source": [
    "home_matches.head()"
   ]
  },
  {
   "cell_type": "markdown",
   "id": "subsequent-blowing",
   "metadata": {},
   "source": [
    "Let's now create a data frame with all the matches of Real Madrid."
   ]
  },
  {
   "cell_type": "markdown",
   "id": "legislative-manor",
   "metadata": {},
   "source": [
    "## Getting Real Madrid matches results"
   ]
  },
  {
   "cell_type": "code",
   "execution_count": 7,
   "id": "interested-surname",
   "metadata": {},
   "outputs": [],
   "source": [
    "#Create a data frame from the results of SQL query containing Real Madrid home matches results\n",
    "real_home_matches=pd.read_sql_query(\"SELECT \"\\\n",
    "                                         \"m.date, \"\\\n",
    "                                         \"m.season, \"\\\n",
    "                                         \"t.team_long_name AS opponent, \"\\\n",
    "                                         \"CASE WHEN m.home_team_goal > m.away_team_goal THEN 'Win' \"\\\n",
    "                                              \"WHEN m.home_team_goal < m.away_team_goal THEN 'Loss' \"\\\n",
    "                                              \"ELSE 'Tie' END AS outcome \"\\\n",
    "                                        \"FROM Match AS m \"\\\n",
    "                                        \"LEFT JOIN Team AS t \"\\\n",
    "                                        \"ON m.away_team_api_id = t.team_api_id \"\\\n",
    "                                        \"WHERE m.home_team_api_id = 8633\",con)"
   ]
  },
  {
   "cell_type": "code",
   "execution_count": 8,
   "id": "cooperative-behavior",
   "metadata": {},
   "outputs": [],
   "source": [
    "#Create a data frame from the results of SQL query containing Real Madrid away matches results\n",
    "real_away_matches=pd.read_sql_query(\"SELECT \"\\\n",
    "                                        \"m.date, \"\\\n",
    "                                        \"m.season, \"\\\n",
    "                                        \"t.team_long_name AS opponent, \"\\\n",
    "                                        \"CASE WHEN m.home_team_goal < m.away_team_goal THEN 'Win' \"\\\n",
    "                                             \"WHEN m.home_team_goal > m.away_team_goal THEN 'Loss' \"\\\n",
    "                                             \"ELSE 'Tie' END AS outcome \"\\\n",
    "                                        \"FROM Match AS m \"\\\n",
    "                                        \"LEFT JOIN Team AS t \"\\\n",
    "                                        \"ON m.home_team_api_id = t.team_api_id \"\\\n",
    "                                        \"WHERE m.away_team_api_id = 8633\",con)"
   ]
  },
  {
   "cell_type": "code",
   "execution_count": 9,
   "id": "married-symbol",
   "metadata": {},
   "outputs": [],
   "source": [
    "# Create a data frame with all Real Madrid results\n",
    "real_matches=pd.concat((real_home_matches,real_away_matches), ignore_index = True)"
   ]
  },
  {
   "cell_type": "code",
   "execution_count": 10,
   "id": "secure-final",
   "metadata": {},
   "outputs": [],
   "source": [
    "# Edding points column\n",
    "real_matches['points']=0\n",
    "real_matches['points'][real_matches.outcome=='Win']=3\n",
    "real_matches['points'][real_matches.outcome=='Loss']=1"
   ]
  },
  {
   "cell_type": "code",
   "execution_count": 11,
   "id": "classical-skiing",
   "metadata": {},
   "outputs": [
    {
     "data": {
      "text/html": [
       "<div>\n",
       "<style scoped>\n",
       "    .dataframe tbody tr th:only-of-type {\n",
       "        vertical-align: middle;\n",
       "    }\n",
       "\n",
       "    .dataframe tbody tr th {\n",
       "        vertical-align: top;\n",
       "    }\n",
       "\n",
       "    .dataframe thead th {\n",
       "        text-align: right;\n",
       "    }\n",
       "</style>\n",
       "<table border=\"1\" class=\"dataframe\">\n",
       "  <thead>\n",
       "    <tr style=\"text-align: right;\">\n",
       "      <th></th>\n",
       "      <th>date</th>\n",
       "      <th>season</th>\n",
       "      <th>opponent</th>\n",
       "      <th>outcome</th>\n",
       "      <th>points</th>\n",
       "    </tr>\n",
       "  </thead>\n",
       "  <tbody>\n",
       "    <tr>\n",
       "      <th>0</th>\n",
       "      <td>2008-11-08 00:00:00</td>\n",
       "      <td>2008/2009</td>\n",
       "      <td>Málaga CF</td>\n",
       "      <td>Win</td>\n",
       "      <td>3</td>\n",
       "    </tr>\n",
       "    <tr>\n",
       "      <th>1</th>\n",
       "      <td>2008-11-22 00:00:00</td>\n",
       "      <td>2008/2009</td>\n",
       "      <td>RC Recreativo</td>\n",
       "      <td>Win</td>\n",
       "      <td>3</td>\n",
       "    </tr>\n",
       "    <tr>\n",
       "      <th>2</th>\n",
       "      <td>2008-12-07 00:00:00</td>\n",
       "      <td>2008/2009</td>\n",
       "      <td>Sevilla FC</td>\n",
       "      <td>Loss</td>\n",
       "      <td>1</td>\n",
       "    </tr>\n",
       "    <tr>\n",
       "      <th>3</th>\n",
       "      <td>2008-12-20 00:00:00</td>\n",
       "      <td>2008/2009</td>\n",
       "      <td>Valencia CF</td>\n",
       "      <td>Win</td>\n",
       "      <td>3</td>\n",
       "    </tr>\n",
       "    <tr>\n",
       "      <th>4</th>\n",
       "      <td>2009-01-04 00:00:00</td>\n",
       "      <td>2008/2009</td>\n",
       "      <td>Villarreal CF</td>\n",
       "      <td>Win</td>\n",
       "      <td>3</td>\n",
       "    </tr>\n",
       "  </tbody>\n",
       "</table>\n",
       "</div>"
      ],
      "text/plain": [
       "                  date     season       opponent outcome  points\n",
       "0  2008-11-08 00:00:00  2008/2009      Málaga CF     Win       3\n",
       "1  2008-11-22 00:00:00  2008/2009  RC Recreativo     Win       3\n",
       "2  2008-12-07 00:00:00  2008/2009     Sevilla FC    Loss       1\n",
       "3  2008-12-20 00:00:00  2008/2009    Valencia CF     Win       3\n",
       "4  2009-01-04 00:00:00  2008/2009  Villarreal CF     Win       3"
      ]
     },
     "execution_count": 11,
     "metadata": {},
     "output_type": "execute_result"
    }
   ],
   "source": [
    "real_matches.head()"
   ]
  },
  {
   "cell_type": "markdown",
   "id": "modified-guarantee",
   "metadata": {},
   "source": [
    "## How many matches did Real Madrid win and lose in 2008-2016?"
   ]
  },
  {
   "cell_type": "code",
   "execution_count": 12,
   "id": "fluid-payment",
   "metadata": {},
   "outputs": [
    {
     "data": {
      "text/plain": [
       "Win     228\n",
       "Loss     40\n",
       "Tie      36\n",
       "Name: outcome, dtype: int64"
      ]
     },
     "execution_count": 12,
     "metadata": {},
     "output_type": "execute_result"
    }
   ],
   "source": [
    "#Calculate Real Madrid's wins, losses and ties\n",
    "real_matches['outcome'].value_counts()"
   ]
  },
  {
   "cell_type": "markdown",
   "id": "fallen-flower",
   "metadata": {},
   "source": [
    "As can be seen, in total,  Real Madrid won 228 and lost 40 La Liga matches in the seasons 2008/2009-2015/2016."
   ]
  },
  {
   "cell_type": "markdown",
   "id": "military-greenhouse",
   "metadata": {},
   "source": [
    "## Which team was the best rival of Real Madrid?"
   ]
  },
  {
   "cell_type": "markdown",
   "id": "particular-backing",
   "metadata": {},
   "source": [
    "We will calculate this by fiding the teams who won against Real Madrid the greatest number of times."
   ]
  },
  {
   "cell_type": "code",
   "execution_count": 13,
   "id": "raised-astrology",
   "metadata": {},
   "outputs": [
    {
     "data": {
      "text/plain": [
       "opponent                   outcome\n",
       "FC Barcelona               Loss       10\n",
       "Sevilla FC                 Loss        5\n",
       "Atlético Madrid            Loss        4\n",
       "Athletic Club de Bilbao    Loss        2\n",
       "Valencia CF                Loss        2\n",
       "Villarreal CF              Loss        2\n",
       "Getafe CF                  Loss        2\n",
       "CA Osasuna                 Loss        2\n",
       "Levante UD                 Loss        1\n",
       "Málaga CF                  Loss        1\n",
       "RC Celta de Vigo           Loss        1\n",
       "Granada CF                 Loss        1\n",
       "RCD Mallorca               Loss        1\n",
       "Real Betis Balompié        Loss        1\n",
       "Real Sociedad              Loss        1\n",
       "Real Sporting de Gijón     Loss        1\n",
       "Real Valladolid            Loss        1\n",
       "Real Zaragoza              Loss        1\n",
       "RC Deportivo de La Coruña  Loss        1\n",
       "Name: outcome, dtype: int64"
      ]
     },
     "execution_count": 13,
     "metadata": {},
     "output_type": "execute_result"
    }
   ],
   "source": [
    "# Calculate how many losses Real Madrid had against each opponent\n",
    "real_matches[real_matches.outcome=='Loss'].groupby('opponent')['outcome'].value_counts().sort_values(ascending=False)"
   ]
  },
  {
   "cell_type": "markdown",
   "id": "harmful-execution",
   "metadata": {},
   "source": [
    "FC Barcelona was the strongest rival for Real Madrid in 2008-2016 as Madrid lost 10 times to that team. \n",
    "The second strongest rival for Real Madrid was Sevilla FC, and Real Madrid's third strongest rival was Atletico Madrid."
   ]
  },
  {
   "cell_type": "markdown",
   "id": "presidential-embassy",
   "metadata": {},
   "source": [
    "## Real Madrid results in different seasons"
   ]
  },
  {
   "cell_type": "code",
   "execution_count": 14,
   "id": "hazardous-consensus",
   "metadata": {},
   "outputs": [],
   "source": [
    "# Define function to compare count plots for different categories\n",
    "def countplot_compare(df,colname1,colname2,title,fsize):\n",
    "    f, ax = plt.subplots(figsize=fsize)\n",
    "    ax.set_title(title,fontsize=18)\n",
    "    sns.countplot(x=colname1,hue=colname2, data=df,ax=ax)\n",
    "    ax.yaxis.set_major_locator(MaxNLocator(integer=True))\n",
    "    plt.show()     "
   ]
  },
  {
   "cell_type": "code",
   "execution_count": 15,
   "id": "altered-kennedy",
   "metadata": {},
   "outputs": [
    {
     "data": {
      "image/png": "[encoded data removed]",
      "text/plain": [
       "<Figure size 1080x360 with 1 Axes>"
      ]
     },
     "metadata": {
      "needs_background": "light"
     },
     "output_type": "display_data"
    }
   ],
   "source": [
    "# Compare Wins, Ties and Losses in different seasons for Real Madrid\n",
    "countplot_compare(real_matches,'season','outcome','Real Madrid results in different seasons',(15,5))"
   ]
  },
  {
   "cell_type": "markdown",
   "id": "north-throw",
   "metadata": {},
   "source": [
    "Using the plot above, we can analyze Real Madrid's reasults in different seasons over the years 2008-2016.\n",
    "\n",
    "Overall, we can see that in all the seasons Real Madrid had a significantly larger number of wins than the number of losses or ties.\n",
    "\n",
    "Apparently, the season 2011/2012 was the best  season for Real Madrid, as in that season  the team\n",
    "won 32 times, had 4 ties and lost only twice.\n",
    "\n",
    "As it can be noticed, Real Madrid's  worst season was the season 2008/2009 in which the team had the least amount of wins (25), the higest number of losses(10) and 3 ties."
   ]
  },
  {
   "cell_type": "markdown",
   "id": "hearing-graphics",
   "metadata": {},
   "source": [
    "## Getting Barcelona matches results"
   ]
  },
  {
   "cell_type": "code",
   "execution_count": 16,
   "id": "confident-racing",
   "metadata": {},
   "outputs": [],
   "source": [
    "#Create a data frame from the results of SQL query containing Barcelona home matches results\n",
    "barcelona_home_matches=pd.read_sql_query(\"SELECT \"\\\n",
    "                                             \"m.date, \"\\\n",
    "                                             \"m.season, \"\\\n",
    "                                             \"t.team_long_name AS opponent, \"\\\n",
    "                                             \"CASE WHEN m.home_team_goal > m.away_team_goal THEN 'Win' \"\\\n",
    "                                                  \"WHEN m.home_team_goal < m.away_team_goal THEN 'Loss' \"\\\n",
    "                                                  \"ELSE 'Tie' END AS outcome \"\\\n",
    "                                             \"FROM Match AS m \"\\\n",
    "                                             \"LEFT JOIN Team AS t \"\\\n",
    "                                             \"ON m.away_team_api_id = t.team_api_id \"\\\n",
    "                                             \"WHERE m.home_team_api_id = 8634\",con)"
   ]
  },
  {
   "cell_type": "code",
   "execution_count": 17,
   "id": "basic-avenue",
   "metadata": {},
   "outputs": [],
   "source": [
    "#Create a data frame from the results of SQL query containing Barcelona away matches results\n",
    "barcelona_away_matches=pd.read_sql_query(\"SELECT \"\\\n",
    "                                             \"m.date, \"\\\n",
    "                                             \"m.season, \"\\\n",
    "                                             \"t.team_long_name AS opponent, \"\\\n",
    "                                             \"CASE WHEN m.home_team_goal < m.away_team_goal THEN 'Win' \"\\\n",
    "                                                  \"WHEN m.home_team_goal > m.away_team_goal THEN 'Loss' \"\\\n",
    "                                                  \"ELSE 'Tie' END AS outcome \"\\\n",
    "                                         \"FROM Match AS m \"\\\n",
    "                                         \"LEFT JOIN Team AS t \"\\\n",
    "                                         \"ON m.home_team_api_id = t.team_api_id \"\\\n",
    "                                         \"WHERE m.away_team_api_id = 8634\",con)"
   ]
  },
  {
   "cell_type": "code",
   "execution_count": 18,
   "id": "nervous-retention",
   "metadata": {},
   "outputs": [],
   "source": [
    "# Create a data frame with all Barcelona results\n",
    "barcelona_matches=pd.concat((barcelona_home_matches,barcelona_away_matches), ignore_index = True)"
   ]
  },
  {
   "cell_type": "code",
   "execution_count": 19,
   "id": "czech-tunisia",
   "metadata": {},
   "outputs": [],
   "source": [
    "# Add points column\n",
    "barcelona_matches['points']=0\n",
    "barcelona_matches['points'][barcelona_matches.outcome=='Win']=3\n",
    "barcelona_matches['points'][barcelona_matches.outcome=='Loss']=1"
   ]
  },
  {
   "cell_type": "code",
   "execution_count": 20,
   "id": "third-volleyball",
   "metadata": {},
   "outputs": [
    {
     "data": {
      "text/html": [
       "<div>\n",
       "<style scoped>\n",
       "    .dataframe tbody tr th:only-of-type {\n",
       "        vertical-align: middle;\n",
       "    }\n",
       "\n",
       "    .dataframe tbody tr th {\n",
       "        vertical-align: top;\n",
       "    }\n",
       "\n",
       "    .dataframe thead th {\n",
       "        text-align: right;\n",
       "    }\n",
       "</style>\n",
       "<table border=\"1\" class=\"dataframe\">\n",
       "  <thead>\n",
       "    <tr style=\"text-align: right;\">\n",
       "      <th></th>\n",
       "      <th>date</th>\n",
       "      <th>season</th>\n",
       "      <th>opponent</th>\n",
       "      <th>outcome</th>\n",
       "      <th>points</th>\n",
       "    </tr>\n",
       "  </thead>\n",
       "  <tbody>\n",
       "    <tr>\n",
       "      <th>0</th>\n",
       "      <td>2008-11-08 00:00:00</td>\n",
       "      <td>2008/2009</td>\n",
       "      <td>Real Valladolid</td>\n",
       "      <td>Win</td>\n",
       "      <td>3</td>\n",
       "    </tr>\n",
       "    <tr>\n",
       "      <th>1</th>\n",
       "      <td>2008-11-23 00:00:00</td>\n",
       "      <td>2008/2009</td>\n",
       "      <td>Getafe CF</td>\n",
       "      <td>Tie</td>\n",
       "      <td>0</td>\n",
       "    </tr>\n",
       "    <tr>\n",
       "      <th>2</th>\n",
       "      <td>2008-12-06 00:00:00</td>\n",
       "      <td>2008/2009</td>\n",
       "      <td>Valencia CF</td>\n",
       "      <td>Win</td>\n",
       "      <td>3</td>\n",
       "    </tr>\n",
       "    <tr>\n",
       "      <th>3</th>\n",
       "      <td>2008-12-13 00:00:00</td>\n",
       "      <td>2008/2009</td>\n",
       "      <td>Real Madrid CF</td>\n",
       "      <td>Win</td>\n",
       "      <td>3</td>\n",
       "    </tr>\n",
       "    <tr>\n",
       "      <th>4</th>\n",
       "      <td>2009-01-03 00:00:00</td>\n",
       "      <td>2008/2009</td>\n",
       "      <td>RCD Mallorca</td>\n",
       "      <td>Win</td>\n",
       "      <td>3</td>\n",
       "    </tr>\n",
       "  </tbody>\n",
       "</table>\n",
       "</div>"
      ],
      "text/plain": [
       "                  date     season         opponent outcome  points\n",
       "0  2008-11-08 00:00:00  2008/2009  Real Valladolid     Win       3\n",
       "1  2008-11-23 00:00:00  2008/2009        Getafe CF     Tie       0\n",
       "2  2008-12-06 00:00:00  2008/2009      Valencia CF     Win       3\n",
       "3  2008-12-13 00:00:00  2008/2009   Real Madrid CF     Win       3\n",
       "4  2009-01-03 00:00:00  2008/2009     RCD Mallorca     Win       3"
      ]
     },
     "execution_count": 20,
     "metadata": {},
     "output_type": "execute_result"
    }
   ],
   "source": [
    "barcelona_matches.head()"
   ]
  },
  {
   "cell_type": "markdown",
   "id": "intimate-economics",
   "metadata": {},
   "source": [
    "## How many matches did Barcelona win and lose in 2008-2016?"
   ]
  },
  {
   "cell_type": "code",
   "execution_count": 21,
   "id": "fifty-killer",
   "metadata": {},
   "outputs": [
    {
     "data": {
      "text/plain": [
       "Win     234\n",
       "Tie      43\n",
       "Loss     27\n",
       "Name: outcome, dtype: int64"
      ]
     },
     "execution_count": 21,
     "metadata": {},
     "output_type": "execute_result"
    }
   ],
   "source": [
    "# Calculate Barcelona's wins, ties and losses\n",
    "barcelona_matches['outcome'].value_counts()"
   ]
  },
  {
   "cell_type": "markdown",
   "id": "particular-queens",
   "metadata": {},
   "source": [
    "During the seasons 2008/2009-2015/2016, Barcelona won 234 and lost 27 La Liga matches, whereas as we have seen above, \n",
    "Real Madrid had 228 wins and 40 losses over that same period."
   ]
  },
  {
   "cell_type": "markdown",
   "id": "british-satellite",
   "metadata": {},
   "source": [
    "## Which team was the strongest rival for Barcelona?"
   ]
  },
  {
   "cell_type": "code",
   "execution_count": 22,
   "id": "thermal-shakespeare",
   "metadata": {},
   "outputs": [
    {
     "data": {
      "text/plain": [
       "opponent                 outcome\n",
       "Real Sociedad            Loss       5\n",
       "Real Madrid CF           Loss       4\n",
       "Atlético Madrid          Loss       2\n",
       "CA Osasuna               Loss       2\n",
       "RC Celta de Vigo         Loss       2\n",
       "Valencia CF              Loss       2\n",
       "Athletic Club de Bilbao  Loss       1\n",
       "CD Numancia              Loss       1\n",
       "Getafe CF                Loss       1\n",
       "Granada CF               Loss       1\n",
       "Hércules Club de Fútbol  Loss       1\n",
       "Málaga CF                Loss       1\n",
       "RCD Espanyol             Loss       1\n",
       "RCD Mallorca             Loss       1\n",
       "Real Valladolid          Loss       1\n",
       "Sevilla FC               Loss       1\n",
       "Name: outcome, dtype: int64"
      ]
     },
     "execution_count": 22,
     "metadata": {},
     "output_type": "execute_result"
    }
   ],
   "source": [
    "# Calculate how many losses Barcelona had against each opponent\n",
    "barcelona_matches[barcelona_matches.outcome=='Loss'].groupby('opponent')['outcome'].value_counts().sort_values(ascending=False)"
   ]
  },
  {
   "cell_type": "markdown",
   "id": "electronic-management",
   "metadata": {},
   "source": [
    "Strikingly, the strongest rival for Barcelona in 2008-2016 was Real Sociedad that won 5 times against Barcelona, and according \n",
    "to our calculations, Real Madrid CF was Barcelona's only second strongest rival in 2008-2016."
   ]
  },
  {
   "cell_type": "markdown",
   "id": "attempted-business",
   "metadata": {},
   "source": [
    "## Barcelona results in different seasons"
   ]
  },
  {
   "cell_type": "code",
   "execution_count": 23,
   "id": "threaded-majority",
   "metadata": {},
   "outputs": [
    {
     "data": {
      "image/png": "[encoded data removed]",
      "text/plain": [
       "<Figure size 1080x360 with 1 Axes>"
      ]
     },
     "metadata": {
      "needs_background": "light"
     },
     "output_type": "display_data"
    }
   ],
   "source": [
    "# Compare Wins, Ties and Losses in different seasons for Barcelona\n",
    "countplot_compare(barcelona_matches,'season','outcome','Barcelona results in different seasons',(15,5))"
   ]
  },
  {
   "cell_type": "markdown",
   "id": "organizational-structure",
   "metadata": {},
   "source": [
    "As it can be seen, Barcelona's results were more stable in 2008-2016 as compared to Real Madrid's results. \n",
    "The total number of wins, losses and ties Barcelona had in each season varied only slightly over those years.\n",
    "\n",
    "Overall, as in the case of Real Madrid, in every season, Barcelona had significantly greater number of wins than the number of losses or ties.\n",
    "\n",
    "The best season for Barcelona was 2012/2013, when the team won 32 times, lost 4 times and had 2 ties. Interestingly, if we compare\n",
    "Barcelona's results in this season with Real Madrid's results in its best season (2011/2012),\n",
    "we can see that Real Madrid performed better that season than Barcelona in its best season.\n",
    "Although, in their best seasons, both teams had 32 wins, Real Madrid performed better in its best season because the team lost only twice\n",
    "and had 4 ties. In contrast, Barcelona lost 4 times and had ties twice during the team's best season.\n",
    "\n",
    "The worst two seasons for Barcelona were 2013/2014 and 2008/2009 (curiously,the later was also the worst season for Real Madrid).\n",
    "In those seasons Barcelona had the same results: 27 wins, 6 losses and 5 ties."
   ]
  },
  {
   "cell_type": "markdown",
   "id": "explicit-shore",
   "metadata": {},
   "source": [
    "## Compare Real Madrid and Barcelona results in 2008-2016"
   ]
  },
  {
   "cell_type": "markdown",
   "id": "magnetic-petroleum",
   "metadata": {},
   "source": [
    "Now, let's directrly compare the results Real Madrid and Barcelona had in 2008-2016."
   ]
  },
  {
   "cell_type": "markdown",
   "id": "incident-surface",
   "metadata": {},
   "source": [
    "First, let's calculate the number of points Real Madrid and Barcelona got in each season."
   ]
  },
  {
   "cell_type": "code",
   "execution_count": 24,
   "id": "billion-lecture",
   "metadata": {},
   "outputs": [
    {
     "data": {
      "text/html": [
       "<div>\n",
       "<style scoped>\n",
       "    .dataframe tbody tr th:only-of-type {\n",
       "        vertical-align: middle;\n",
       "    }\n",
       "\n",
       "    .dataframe tbody tr th {\n",
       "        vertical-align: top;\n",
       "    }\n",
       "\n",
       "    .dataframe thead th {\n",
       "        text-align: right;\n",
       "    }\n",
       "</style>\n",
       "<table border=\"1\" class=\"dataframe\">\n",
       "  <thead>\n",
       "    <tr style=\"text-align: right;\">\n",
       "      <th></th>\n",
       "      <th>season</th>\n",
       "      <th>points_real</th>\n",
       "      <th>points_barcelona</th>\n",
       "    </tr>\n",
       "  </thead>\n",
       "  <tbody>\n",
       "    <tr>\n",
       "      <th>0</th>\n",
       "      <td>2008/2009</td>\n",
       "      <td>85</td>\n",
       "      <td>86</td>\n",
       "    </tr>\n",
       "    <tr>\n",
       "      <th>1</th>\n",
       "      <td>2009/2010</td>\n",
       "      <td>97</td>\n",
       "      <td>94</td>\n",
       "    </tr>\n",
       "    <tr>\n",
       "      <th>2</th>\n",
       "      <td>2010/2011</td>\n",
       "      <td>91</td>\n",
       "      <td>92</td>\n",
       "    </tr>\n",
       "    <tr>\n",
       "      <th>3</th>\n",
       "      <td>2011/2012</td>\n",
       "      <td>98</td>\n",
       "      <td>87</td>\n",
       "    </tr>\n",
       "    <tr>\n",
       "      <th>4</th>\n",
       "      <td>2012/2013</td>\n",
       "      <td>83</td>\n",
       "      <td>98</td>\n",
       "    </tr>\n",
       "  </tbody>\n",
       "</table>\n",
       "</div>"
      ],
      "text/plain": [
       "      season  points_real  points_barcelona\n",
       "0  2008/2009           85                86\n",
       "1  2009/2010           97                94\n",
       "2  2010/2011           91                92\n",
       "3  2011/2012           98                87\n",
       "4  2012/2013           83                98"
      ]
     },
     "execution_count": 24,
     "metadata": {},
     "output_type": "execute_result"
    }
   ],
   "source": [
    "# Create a data frame with Real Madrid's and Barcelona's points in each season.\n",
    "real_points=real_matches.groupby('season')['points'].sum().to_frame().reset_index(level=0)\n",
    "barcelona_points=barcelona_matches.groupby('season')['points'].sum().to_frame().reset_index(level=0)\n",
    "points=pd.merge(real_points,barcelona_points,how='left',on='season',suffixes=('_real', '_barcelona'))\n",
    "points.head()"
   ]
  },
  {
   "cell_type": "markdown",
   "id": "adult-gender",
   "metadata": {},
   "source": [
    "Now, let's calculate the number of wins the two teams had in each season."
   ]
  },
  {
   "cell_type": "code",
   "execution_count": 25,
   "id": "qualified-trainer",
   "metadata": {},
   "outputs": [],
   "source": [
    "# Create a data frame with Real Madrid's and Barcelona's numbers of wins in each season.\n",
    "real_wins=real_matches[real_matches.outcome=='Win'].groupby('season')['outcome'].count().to_frame().reset_index(level=0)\n",
    "barcelona_wins=barcelona_matches[barcelona_matches.outcome=='Win'].groupby('season')['outcome'].count().to_frame().reset_index(level=0)\n",
    "wins=pd.merge(real_wins,barcelona_wins,how='left',on='season',suffixes=('_real', '_barcelona'))"
   ]
  },
  {
   "cell_type": "markdown",
   "id": "terminal-blowing",
   "metadata": {},
   "source": [
    "Now, we will also calculate the number of losses Real Madrid and Barcelona had in every season."
   ]
  },
  {
   "cell_type": "code",
   "execution_count": 26,
   "id": "velvet-shock",
   "metadata": {},
   "outputs": [],
   "source": [
    "# Create a data frame with Real Madrid's and Barcelona's numbers of losses in each season.\n",
    "real_losses=real_matches[real_matches.outcome=='Loss'].groupby('season')['outcome'].count().to_frame().reset_index(level=0)\n",
    "barcelona_losses=barcelona_matches[barcelona_matches.outcome=='Loss'].groupby('season')['outcome'].count().to_frame().reset_index(level=0)\n",
    "losses=pd.merge(real_losses,barcelona_losses,how='left',on='season',suffixes=('_real', '_barcelona')).fillna(0)"
   ]
  },
  {
   "cell_type": "markdown",
   "id": "another-teddy",
   "metadata": {},
   "source": [
    "And finally, we will calculate the number of tie both teams had in each season."
   ]
  },
  {
   "cell_type": "code",
   "execution_count": 27,
   "id": "sapphire-conclusion",
   "metadata": {},
   "outputs": [],
   "source": [
    "## Create a data frame with Real Madrid's and Barcelona's numbers of ties in each season.\n",
    "real_ties=real_matches[real_matches.outcome=='Tie'].groupby('season')['outcome'].count().to_frame().reset_index(level=0)\n",
    "barcelona_ties=barcelona_matches[barcelona_matches.outcome=='Tie'].groupby('season')['outcome'].count().to_frame().reset_index(level=0)\n",
    "ties=pd.merge(real_ties,barcelona_ties,how='right',on='season',suffixes=('_real', '_barcelona')).fillna(0)"
   ]
  },
  {
   "cell_type": "markdown",
   "id": "confident-functionality",
   "metadata": {},
   "source": [
    "Let's now visualize the results!"
   ]
  },
  {
   "cell_type": "code",
   "execution_count": 28,
   "id": "changing-alaska",
   "metadata": {},
   "outputs": [
    {
     "data": {
      "image/png": "[encoded data removed]",
      "text/plain": [
       "<Figure size 1080x720 with 4 Axes>"
      ]
     },
     "metadata": {
      "needs_background": "light"
     },
     "output_type": "display_data"
    }
   ],
   "source": [
    "# Plot 4 subplots with wins, losses, ties and points of Real Madrid and Barcelona in different seasons\n",
    "f,ax=plt.subplots(2,2,figsize=(15,10))\n",
    "\n",
    "data=[wins,ties,losses,points]\n",
    "ylab=['wins','ties','losses','points']\n",
    "x=np.arange(wins.shape[0])\n",
    "\n",
    "n=0\n",
    "\n",
    "for col in range(2):\n",
    "    for row in range(2):\n",
    "            ax[row,col].plot(data[n]['season'],data[n].iloc[:,1],label='Real Madrid',marker='o',ls='--',lw=2)\n",
    "            ax[row,col].plot(data[n]['season'],data[n].iloc[:,2],label='Barcelona',marker='s',lw=2)\n",
    "            ax[row,col].legend()\n",
    "            ax[row,col].set_xticklabels(ties.index,rotation=25)\n",
    "            ax[row,col].set_xticks(x, (wins['season'].values))\n",
    "            ax[row,col].set_ylabel('Number of '+ylab[n],fontsize=16)\n",
    "            ax[row,col].set_xlabel('Season',fontsize=16)\n",
    "            ax[row,col].set_title('Number of '+ylab[n]+ ' in different seasons',fontsize=18)\n",
    "            n+=1\n",
    "f.tight_layout()\n",
    "plt.show()            "
   ]
  },
  {
   "cell_type": "markdown",
   "id": "indie-coupon",
   "metadata": {},
   "source": [
    "As we can see on the plot in the top left corner, curiously, Real Madrid and Barcelona had pretty similar number of wins\n",
    "in every season (the difference was plus-minus 1-2 wins), except for the season 2011/2012 when Real Madrid had 4 more wins than Barcelona, and\n",
    "the season 2012/2013 when Barcelona had 6 wins more than Real Madrid. Thus, it is not surprising that in 2011/2012 Real Madrid won La Liga\n",
    "and in  2012/2013 Barcelona was the Spanish League Champion.\n",
    "\n",
    "Furthermore, we can compare Real Madrid's and Barcelona's losses in each season by analyzing the plot in the right top corner.\n",
    "We can see that, as in the case of the number of wins, the numbers of losses of the two teams were similar in almost every season,\n",
    "although, Real Madrid had slightly more losses in the most seasons.\n",
    "In 2008/2009, hovewer Real Madrid lost 5 times more than Barcelona, which is a lot. Accordingly, that season was won by Barcelona.\n",
    "\n",
    "Additionally, we can compare how many ties Barcelona and Real Madrid had in each seson by analyzing the plot in the bottom \n",
    "left corner. We can see that in most seasons Barcelona had more ties than Real Madrid. \n",
    "\n",
    "Finally, we will compare the amount of points the two teams gained in each season. \n",
    "Unquestionably, the number of points gained by a team during a season is the most important indicatior of team's success or failure, as\n",
    "this parameter defines the rank of the team in the season.\n",
    "If we look at the plot in the bottom right corner, we will see that, in most of the seasons, Real Madrid and Barcelona gained\n",
    "very similar amount of points (except for the seasons 2011/2012 and 2012/2013). \n",
    "\n",
    "Hovewer the team who gained more points became\n",
    "a Champion during all corresponding seasons except for 2013/2014 - in that season Real Madrid and Barcelona had the same amount of points\n",
    "(and curiously the same amount of wins, losses and ties) and neither of the teams got the Champion's title that season. \n",
    "In 2013/2014 La Liga was won by Atletico Madrid.\n",
    "\n",
    "To conclude, overall in 2008-2016, Barcelona won La Liga 4 times, whereas Real Madrid became Chamipon only 3 times."
   ]
  },
  {
   "cell_type": "markdown",
   "id": "amateur-illness",
   "metadata": {},
   "source": [
    "## El Clasico Analysis"
   ]
  },
  {
   "cell_type": "markdown",
   "id": "oriented-occasion",
   "metadata": {},
   "source": [
    "Real Madrid and Barcelona have been rival teams for more than 80 years.\n",
    "Matches between these two teams are given the name El Clasico.\n",
    "\n",
    "Let's now analyze El Clasico matches happened that between the years 2008 and 2016!"
   ]
  },
  {
   "cell_type": "code",
   "execution_count": 29,
   "id": "beneficial-steering",
   "metadata": {},
   "outputs": [],
   "source": [
    "#Create a data frame from the results of SQL query containing El Clasico matches results\n",
    "el_clasico=pd.read_sql_query(\"SELECT \"\\\n",
    "                                \"date, \"\\\n",
    "                                \"season, \"\\\n",
    "                                \"CASE WHEN home_team_api_id = 8634 THEN 'FC Barcelona' \"\\\n",
    "                                     \"ELSE 'Real Madrid CF' END AS home, \"\\\n",
    "                                \"CASE WHEN away_team_api_id = 8634 THEN 'FC Barcelona' \"\\\n",
    "                                     \"ELSE 'Real Madrid CF' END AS away, \"\\\n",
    "                                \"CASE WHEN home_team_goal > away_team_goal AND home_team_api_id = 8634 THEN 'Barcelona win' \"\\\n",
    "                                    \"WHEN home_team_goal > away_team_goal AND home_team_api_id = 8633 THEN 'Real Madrid win' \"\\\n",
    "                                    \"WHEN home_team_goal < away_team_goal AND away_team_api_id = 8634 THEN 'Barcelona win' \"\\\n",
    "                                    \"WHEN home_team_goal < away_team_goal AND away_team_api_id = 8633 THEN 'Real Madrid win' \"\\\n",
    "                                    \"ELSE 'Tie' END AS outcome, \"\\\n",
    "                                \"home_team_goal AS home_goals, \"\\\n",
    "                                \"away_team_goal AS away_goals \"\\\n",
    "                              \"FROM Match \"\\\n",
    "                             \"WHERE (away_team_api_id = 8634 OR home_team_api_id = 8634) \"\\\n",
    "                                  \" AND (away_team_api_id = 8633 OR home_team_api_id = 8633)\",con)"
   ]
  },
  {
   "cell_type": "code",
   "execution_count": 30,
   "id": "magnetic-mistress",
   "metadata": {},
   "outputs": [
    {
     "data": {
      "text/html": [
       "<div>\n",
       "<style scoped>\n",
       "    .dataframe tbody tr th:only-of-type {\n",
       "        vertical-align: middle;\n",
       "    }\n",
       "\n",
       "    .dataframe tbody tr th {\n",
       "        vertical-align: top;\n",
       "    }\n",
       "\n",
       "    .dataframe thead th {\n",
       "        text-align: right;\n",
       "    }\n",
       "</style>\n",
       "<table border=\"1\" class=\"dataframe\">\n",
       "  <thead>\n",
       "    <tr style=\"text-align: right;\">\n",
       "      <th></th>\n",
       "      <th>date</th>\n",
       "      <th>season</th>\n",
       "      <th>home</th>\n",
       "      <th>away</th>\n",
       "      <th>outcome</th>\n",
       "      <th>home_goals</th>\n",
       "      <th>away_goals</th>\n",
       "    </tr>\n",
       "  </thead>\n",
       "  <tbody>\n",
       "    <tr>\n",
       "      <th>0</th>\n",
       "      <td>2008-12-13 00:00:00</td>\n",
       "      <td>2008/2009</td>\n",
       "      <td>FC Barcelona</td>\n",
       "      <td>Real Madrid CF</td>\n",
       "      <td>Barcelona win</td>\n",
       "      <td>2</td>\n",
       "      <td>0</td>\n",
       "    </tr>\n",
       "    <tr>\n",
       "      <th>1</th>\n",
       "      <td>2009-05-02 00:00:00</td>\n",
       "      <td>2008/2009</td>\n",
       "      <td>Real Madrid CF</td>\n",
       "      <td>FC Barcelona</td>\n",
       "      <td>Barcelona win</td>\n",
       "      <td>2</td>\n",
       "      <td>6</td>\n",
       "    </tr>\n",
       "    <tr>\n",
       "      <th>2</th>\n",
       "      <td>2009-11-29 00:00:00</td>\n",
       "      <td>2009/2010</td>\n",
       "      <td>FC Barcelona</td>\n",
       "      <td>Real Madrid CF</td>\n",
       "      <td>Barcelona win</td>\n",
       "      <td>1</td>\n",
       "      <td>0</td>\n",
       "    </tr>\n",
       "    <tr>\n",
       "      <th>3</th>\n",
       "      <td>2010-04-10 00:00:00</td>\n",
       "      <td>2009/2010</td>\n",
       "      <td>Real Madrid CF</td>\n",
       "      <td>FC Barcelona</td>\n",
       "      <td>Barcelona win</td>\n",
       "      <td>0</td>\n",
       "      <td>2</td>\n",
       "    </tr>\n",
       "    <tr>\n",
       "      <th>4</th>\n",
       "      <td>2010-11-29 00:00:00</td>\n",
       "      <td>2010/2011</td>\n",
       "      <td>FC Barcelona</td>\n",
       "      <td>Real Madrid CF</td>\n",
       "      <td>Barcelona win</td>\n",
       "      <td>5</td>\n",
       "      <td>0</td>\n",
       "    </tr>\n",
       "  </tbody>\n",
       "</table>\n",
       "</div>"
      ],
      "text/plain": [
       "                  date     season            home            away  \\\n",
       "0  2008-12-13 00:00:00  2008/2009    FC Barcelona  Real Madrid CF   \n",
       "1  2009-05-02 00:00:00  2008/2009  Real Madrid CF    FC Barcelona   \n",
       "2  2009-11-29 00:00:00  2009/2010    FC Barcelona  Real Madrid CF   \n",
       "3  2010-04-10 00:00:00  2009/2010  Real Madrid CF    FC Barcelona   \n",
       "4  2010-11-29 00:00:00  2010/2011    FC Barcelona  Real Madrid CF   \n",
       "\n",
       "         outcome  home_goals  away_goals  \n",
       "0  Barcelona win           2           0  \n",
       "1  Barcelona win           2           6  \n",
       "2  Barcelona win           1           0  \n",
       "3  Barcelona win           0           2  \n",
       "4  Barcelona win           5           0  "
      ]
     },
     "execution_count": 30,
     "metadata": {},
     "output_type": "execute_result"
    }
   ],
   "source": [
    "el_clasico.head()"
   ]
  },
  {
   "cell_type": "code",
   "execution_count": 31,
   "id": "racial-steering",
   "metadata": {},
   "outputs": [
    {
     "data": {
      "text/plain": [
       "outcome          home            away          \n",
       "Barcelona win    FC Barcelona    Real Madrid CF    5\n",
       "                 Real Madrid CF  FC Barcelona      5\n",
       "Real Madrid win  FC Barcelona    Real Madrid CF    2\n",
       "                 Real Madrid CF  FC Barcelona      2\n",
       "Tie              FC Barcelona    Real Madrid CF    1\n",
       "                 Real Madrid CF  FC Barcelona      1\n",
       "dtype: int64"
      ]
     },
     "execution_count": 31,
     "metadata": {},
     "output_type": "execute_result"
    }
   ],
   "source": [
    "# Calculate the number of wins, losses and ties for home and away team in el clasico matches\n",
    "el_clasico.groupby('outcome')['home','away'].value_counts()"
   ]
  },
  {
   "cell_type": "markdown",
   "id": "charitable-astronomy",
   "metadata": {},
   "source": [
    "We can see that, in 2008-2016, Barcelona won 10 times against Real Madrid (among those matches, Barcelona played 5 times at home \n",
    "                                                                          and 5 times away).\n",
    "\n",
    "During that same period, in 2008-2016, Real Madrid won 4 times against Barcelona (among those 4 matches, 2 times Real Madrid played at home and 2 other\n",
    "                                                                                times it played away).\n",
    "                                                                                \n",
    "In addition, in the years 2008-2016, Real Madrid and Barcelona had 2 matches between them that ended with a tie (1 of those matches was held\n",
    "                                                                                                   in Madrid and the other one - in Barcelona)."
   ]
  },
  {
   "cell_type": "markdown",
   "id": "unlimited-jones",
   "metadata": {},
   "source": [
    "### El Clasico matches results in different seasons"
   ]
  },
  {
   "cell_type": "markdown",
   "id": "wicked-smile",
   "metadata": {},
   "source": [
    "Let's now analyze the results of El Clasico matches from different seasons."
   ]
  },
  {
   "cell_type": "code",
   "execution_count": 32,
   "id": "certain-length",
   "metadata": {},
   "outputs": [
    {
     "data": {
      "image/png": "[encoded data removed]",
      "text/plain": [
       "<Figure size 1080x360 with 1 Axes>"
      ]
     },
     "metadata": {
      "needs_background": "light"
     },
     "output_type": "display_data"
    }
   ],
   "source": [
    "# Plot a comparative countplot\n",
    "countplot_compare(el_clasico,'season','outcome','El Classico matches in different seasons',(15,5))"
   ]
  },
  {
   "cell_type": "code",
   "execution_count": 33,
   "id": "prepared-artist",
   "metadata": {},
   "outputs": [
    {
     "data": {
      "text/plain": [
       "season     home            outcome        \n",
       "2008/2009  FC Barcelona    Barcelona win      1\n",
       "           Real Madrid CF  Barcelona win      1\n",
       "2009/2010  FC Barcelona    Barcelona win      1\n",
       "           Real Madrid CF  Barcelona win      1\n",
       "2010/2011  FC Barcelona    Barcelona win      1\n",
       "           Real Madrid CF  Tie                1\n",
       "2011/2012  FC Barcelona    Real Madrid win    1\n",
       "           Real Madrid CF  Barcelona win      1\n",
       "2012/2013  FC Barcelona    Tie                1\n",
       "           Real Madrid CF  Real Madrid win    1\n",
       "2013/2014  FC Barcelona    Barcelona win      1\n",
       "           Real Madrid CF  Barcelona win      1\n",
       "2014/2015  FC Barcelona    Barcelona win      1\n",
       "           Real Madrid CF  Real Madrid win    1\n",
       "2015/2016  FC Barcelona    Real Madrid win    1\n",
       "           Real Madrid CF  Barcelona win      1\n",
       "dtype: int64"
      ]
     },
     "execution_count": 33,
     "metadata": {},
     "output_type": "execute_result"
    }
   ],
   "source": [
    "# Calculate home team wins, ties and losses\n",
    "el_clasico.groupby('season')['home','outcome'].value_counts()"
   ]
  },
  {
   "cell_type": "markdown",
   "id": "subtle-religion",
   "metadata": {},
   "source": [
    "The plot above can tell us everything about El Clasico matches played in seasons 2008/2009-2015/2016.\n",
    "\n",
    "Obviously, in each season, Real Madrid and Barcelona played twice withing the Spanish Football League (La Liga).\n",
    "\n",
    "In the seasons 2008/2009 and 2009/2010, Barcelona won both matches against Real Madrid (both, home and away matches).\n",
    "\n",
    "In the season 2010/2011 Barcelona won once against Real Madrid (as we can see above, it happended in Barcelona), and the other\n",
    "El Clasico match that occured in Madrid in that season ended with a tie.\n",
    "\n",
    "In the season 2011/2012, Barcelona won once against Real Madrid in Madrid, and Real Madrid won another match held in Barcelona.\n",
    "\n",
    "In the season 2012/2013, there was one tie between Barcelona and Real Madrid in the match played in Barcelona, and the match\n",
    "held in Madrid was won by Real Madrid.\n",
    "\n",
    "In the season 2013/2014, the two El Clasico matches of La Liga were won by Barcelona.\n",
    "\n",
    "In the season 2014/2015, one of the matches was won by Barcelona (in Barcelona), and the other match which was held in Madrid was\n",
    "won by Real Madrid.\n",
    "\n",
    "In the season 2015/2016 again, one of the matches was won by Barcelona (that match was held in Madrid), and the other match\n",
    "held in Barcelona was won by Real Madrid."
   ]
  },
  {
   "cell_type": "markdown",
   "id": "controlling-jaguar",
   "metadata": {},
   "source": [
    "Overall, we can conclude that Barcelona had more success in El Clasico matches throughout the seasons 2008/2009 - 2015/2016."
   ]
  },
  {
   "cell_type": "markdown",
   "id": "fitted-vertex",
   "metadata": {},
   "source": [
    "### How many goals Real Madrid and Barcelona scored in El Clasico matches?"
   ]
  },
  {
   "cell_type": "code",
   "execution_count": 34,
   "id": "sacred-circular",
   "metadata": {},
   "outputs": [
    {
     "data": {
      "text/plain": [
       "home\n",
       "FC Barcelona      16\n",
       "Real Madrid CF    12\n",
       "Name: home_goals, dtype: int64"
      ]
     },
     "execution_count": 34,
     "metadata": {},
     "output_type": "execute_result"
    }
   ],
   "source": [
    "# Calculate home team goals for each of the teams\n",
    "el_clasico.groupby('home')['home_goals'].sum()"
   ]
  },
  {
   "cell_type": "code",
   "execution_count": 35,
   "id": "greatest-timber",
   "metadata": {},
   "outputs": [
    {
     "data": {
      "text/plain": [
       "away\n",
       "FC Barcelona      22\n",
       "Real Madrid CF     8\n",
       "Name: away_goals, dtype: int64"
      ]
     },
     "execution_count": 35,
     "metadata": {},
     "output_type": "execute_result"
    }
   ],
   "source": [
    "# Calculate away team goals for each of the teams\n",
    "el_clasico.groupby('away')['away_goals'].sum()"
   ]
  },
  {
   "cell_type": "markdown",
   "id": "pressed-berlin",
   "metadata": {},
   "source": [
    "We can see that, in total in all El Clasico matches played in 2008-2016 within La Liga, Barcelona scored 16 goals in home matches and 22 goals\n",
    "in away matches. Whereas Real Madrid scored in total 12 goals at home and 8 goals away in El Clasico matches."
   ]
  },
  {
   "cell_type": "code",
   "execution_count": 36,
   "id": "according-france",
   "metadata": {},
   "outputs": [
    {
     "data": {
      "text/html": [
       "<div>\n",
       "<style scoped>\n",
       "    .dataframe tbody tr th:only-of-type {\n",
       "        vertical-align: middle;\n",
       "    }\n",
       "\n",
       "    .dataframe tbody tr th {\n",
       "        vertical-align: top;\n",
       "    }\n",
       "\n",
       "    .dataframe thead th {\n",
       "        text-align: right;\n",
       "    }\n",
       "</style>\n",
       "<table border=\"1\" class=\"dataframe\">\n",
       "  <thead>\n",
       "    <tr style=\"text-align: right;\">\n",
       "      <th></th>\n",
       "      <th>home_goals</th>\n",
       "      <th>away_goals</th>\n",
       "    </tr>\n",
       "  </thead>\n",
       "  <tbody>\n",
       "    <tr>\n",
       "      <th>count</th>\n",
       "      <td>16.000000</td>\n",
       "      <td>16.000000</td>\n",
       "    </tr>\n",
       "    <tr>\n",
       "      <th>mean</th>\n",
       "      <td>1.750000</td>\n",
       "      <td>1.875000</td>\n",
       "    </tr>\n",
       "    <tr>\n",
       "      <th>std</th>\n",
       "      <td>1.238278</td>\n",
       "      <td>1.668333</td>\n",
       "    </tr>\n",
       "    <tr>\n",
       "      <th>min</th>\n",
       "      <td>0.000000</td>\n",
       "      <td>0.000000</td>\n",
       "    </tr>\n",
       "    <tr>\n",
       "      <th>25%</th>\n",
       "      <td>1.000000</td>\n",
       "      <td>1.000000</td>\n",
       "    </tr>\n",
       "    <tr>\n",
       "      <th>50%</th>\n",
       "      <td>2.000000</td>\n",
       "      <td>1.500000</td>\n",
       "    </tr>\n",
       "    <tr>\n",
       "      <th>75%</th>\n",
       "      <td>2.000000</td>\n",
       "      <td>2.250000</td>\n",
       "    </tr>\n",
       "    <tr>\n",
       "      <th>max</th>\n",
       "      <td>5.000000</td>\n",
       "      <td>6.000000</td>\n",
       "    </tr>\n",
       "  </tbody>\n",
       "</table>\n",
       "</div>"
      ],
      "text/plain": [
       "       home_goals  away_goals\n",
       "count   16.000000   16.000000\n",
       "mean     1.750000    1.875000\n",
       "std      1.238278    1.668333\n",
       "min      0.000000    0.000000\n",
       "25%      1.000000    1.000000\n",
       "50%      2.000000    1.500000\n",
       "75%      2.000000    2.250000\n",
       "max      5.000000    6.000000"
      ]
     },
     "execution_count": 36,
     "metadata": {},
     "output_type": "execute_result"
    }
   ],
   "source": [
    "# Goals statistics\n",
    "el_clasico[['home_goals','away_goals']].describe()"
   ]
  },
  {
   "cell_type": "markdown",
   "id": "organic-microphone",
   "metadata": {},
   "source": [
    "Although one can believe that it is easier to play and score goals when a team plays at home, we can see that in El Clasico matches the teams scored on average 1.75 goals when they played at home and 1.88 goals when\n",
    "they played away.\n",
    "\n",
    "Interestingly, the maximum number of goals scored by a home team and an away team in El Classico matches were 5 and 6 goals\n",
    "correspondingly. Those are quite good results. Let's see which of the two teams scored that much in El Clasico matches."
   ]
  },
  {
   "cell_type": "code",
   "execution_count": 37,
   "id": "affected-curve",
   "metadata": {},
   "outputs": [
    {
     "data": {
      "text/html": [
       "<div>\n",
       "<style scoped>\n",
       "    .dataframe tbody tr th:only-of-type {\n",
       "        vertical-align: middle;\n",
       "    }\n",
       "\n",
       "    .dataframe tbody tr th {\n",
       "        vertical-align: top;\n",
       "    }\n",
       "\n",
       "    .dataframe thead th {\n",
       "        text-align: right;\n",
       "    }\n",
       "</style>\n",
       "<table border=\"1\" class=\"dataframe\">\n",
       "  <thead>\n",
       "    <tr style=\"text-align: right;\">\n",
       "      <th></th>\n",
       "      <th>date</th>\n",
       "      <th>season</th>\n",
       "      <th>home</th>\n",
       "      <th>away</th>\n",
       "      <th>outcome</th>\n",
       "      <th>home_goals</th>\n",
       "      <th>away_goals</th>\n",
       "    </tr>\n",
       "  </thead>\n",
       "  <tbody>\n",
       "    <tr>\n",
       "      <th>4</th>\n",
       "      <td>2010-11-29 00:00:00</td>\n",
       "      <td>2010/2011</td>\n",
       "      <td>FC Barcelona</td>\n",
       "      <td>Real Madrid CF</td>\n",
       "      <td>Barcelona win</td>\n",
       "      <td>5</td>\n",
       "      <td>0</td>\n",
       "    </tr>\n",
       "  </tbody>\n",
       "</table>\n",
       "</div>"
      ],
      "text/plain": [
       "                  date     season          home            away  \\\n",
       "4  2010-11-29 00:00:00  2010/2011  FC Barcelona  Real Madrid CF   \n",
       "\n",
       "         outcome  home_goals  away_goals  \n",
       "4  Barcelona win           5           0  "
      ]
     },
     "execution_count": 37,
     "metadata": {},
     "output_type": "execute_result"
    }
   ],
   "source": [
    "el_clasico[el_clasico.home_goals==5]"
   ]
  },
  {
   "cell_type": "markdown",
   "id": "private-poetry",
   "metadata": {},
   "source": [
    "We can see that the team that scored 5 goals was Barcelona. It happended in the season 2010/2011 when Barcelona played at home\n",
    "and won against Real Madrid 5:0."
   ]
  },
  {
   "cell_type": "code",
   "execution_count": 38,
   "id": "animated-hundred",
   "metadata": {},
   "outputs": [
    {
     "data": {
      "text/html": [
       "<div>\n",
       "<style scoped>\n",
       "    .dataframe tbody tr th:only-of-type {\n",
       "        vertical-align: middle;\n",
       "    }\n",
       "\n",
       "    .dataframe tbody tr th {\n",
       "        vertical-align: top;\n",
       "    }\n",
       "\n",
       "    .dataframe thead th {\n",
       "        text-align: right;\n",
       "    }\n",
       "</style>\n",
       "<table border=\"1\" class=\"dataframe\">\n",
       "  <thead>\n",
       "    <tr style=\"text-align: right;\">\n",
       "      <th></th>\n",
       "      <th>date</th>\n",
       "      <th>season</th>\n",
       "      <th>home</th>\n",
       "      <th>away</th>\n",
       "      <th>outcome</th>\n",
       "      <th>home_goals</th>\n",
       "      <th>away_goals</th>\n",
       "    </tr>\n",
       "  </thead>\n",
       "  <tbody>\n",
       "    <tr>\n",
       "      <th>1</th>\n",
       "      <td>2009-05-02 00:00:00</td>\n",
       "      <td>2008/2009</td>\n",
       "      <td>Real Madrid CF</td>\n",
       "      <td>FC Barcelona</td>\n",
       "      <td>Barcelona win</td>\n",
       "      <td>2</td>\n",
       "      <td>6</td>\n",
       "    </tr>\n",
       "  </tbody>\n",
       "</table>\n",
       "</div>"
      ],
      "text/plain": [
       "                  date     season            home          away  \\\n",
       "1  2009-05-02 00:00:00  2008/2009  Real Madrid CF  FC Barcelona   \n",
       "\n",
       "         outcome  home_goals  away_goals  \n",
       "1  Barcelona win           2           6  "
      ]
     },
     "execution_count": 38,
     "metadata": {},
     "output_type": "execute_result"
    }
   ],
   "source": [
    "el_clasico[el_clasico.away_goals==6]"
   ]
  },
  {
   "cell_type": "markdown",
   "id": "associate-limitation",
   "metadata": {},
   "source": [
    "The team that scored the maximum number of goals in El Clasico matches was also Barcelona. \n",
    "It happended in the season 2008/2009 when Barcelona won 6:2 against Real Madrid in Madrid. "
   ]
  },
  {
   "cell_type": "markdown",
   "id": "textile-division",
   "metadata": {},
   "source": [
    "### Goals in El Clasico matches in different seasons"
   ]
  },
  {
   "cell_type": "markdown",
   "id": "motivated-rotation",
   "metadata": {},
   "source": [
    "Now, to analyze the goals scored in El Clasico matches in different seasons, we will construct a data frame with the following columns:\n",
    "    \n",
    "**season** column;\\\n",
    "**real_home_goals** column which will contain the number of goals Real Madrid scored in EL Clasico matches in each season as\n",
    "    a home team;\\\n",
    "**real_away_goals** column which will contain the number of goals Real Madrid scored in EL Clasico matches in each season as\n",
    "    an away team;\\\n",
    "**barcelona_home_goals** column which will contain the number of goals Barcelona scored in EL Clasico matches in each season as\n",
    "    a home team;\\\n",
    "**barcelona_away_goals** column which will contain the number of goals Barcelona scored in EL Clasico matches in each season as\n",
    "    an away team;\\\n",
    "**real_total_goals** column which will contain the total number of goals Real Madrid scored in El Clasico matches in each seson;\\\n",
    "**barcelona_total_goals** column which will contain the total number of goals Barcelona scored in El Clasico matches in each season.\n",
    "        \n",
    "\n",
    "For the sake of excersize, we will construct this data frame in two different ways:\n",
    "1) by manipulating the **el_clasico** data frame with pandas\\\n",
    "2) by means of a SQL query \n",
    "    \n",
    "        "
   ]
  },
  {
   "cell_type": "markdown",
   "id": "mineral-ranking",
   "metadata": {},
   "source": [
    "**Contructing a data frame with goals in different seasons with pandas using el_clasico data frame**"
   ]
  },
  {
   "cell_type": "code",
   "execution_count": 39,
   "id": "auburn-taste",
   "metadata": {},
   "outputs": [],
   "source": [
    "real_home_barcelona_away=el_clasico[el_clasico.home=='Real Madrid CF'].groupby('season')['home_goals',\n",
    "                                                                                         'away_goals'].sum().reset_index()\n",
    "barcelona_home_real_away=el_clasico[el_clasico.home=='FC Barcelona'].groupby('season')['home_goals',\n",
    "                                                                                       'away_goals'].sum().reset_index()"
   ]
  },
  {
   "cell_type": "code",
   "execution_count": 40,
   "id": "unsigned-tract",
   "metadata": {},
   "outputs": [],
   "source": [
    "real_home_barcelona_away.rename(columns={\"home_goals\": \"real_home_goals\", \"away_goals\": \"barcelona_away_goals\"},inplace=True)\n",
    "barcelona_home_real_away.rename(columns={\"home_goals\": \"barcelona_home_goals\", \"away_goals\": \"real_away_goals\"},inplace=True)\n",
    "goals_pandas=pd.merge(real_home_barcelona_away,barcelona_home_real_away,how='left',on='season')\n",
    "goals_pandas['real_total_goals']=goals_pandas['real_home_goals']+goals_pandas['real_away_goals']\n",
    "goals_pandas['barcelona_total_goals']=goals_pandas['barcelona_home_goals']+goals_pandas['barcelona_away_goals']\n",
    "goals_pandas=goals_pandas[['season','real_home_goals','real_away_goals','barcelona_home_goals','barcelona_away_goals',\n",
    "                           'real_total_goals','barcelona_total_goals']]"
   ]
  },
  {
   "cell_type": "markdown",
   "id": "known-artist",
   "metadata": {},
   "source": [
    "**Constructing the same data frame with a SQL query**"
   ]
  },
  {
   "cell_type": "code",
   "execution_count": 41,
   "id": "exposed-defensive",
   "metadata": {},
   "outputs": [],
   "source": [
    "goals_sql=pd.read_sql_query(\"SELECT \"\\\n",
    "                               \"season, \"\\\n",
    "                               \"real_home_goals, \"\\\n",
    "                               \"real_away_goals, \"\\\n",
    "                               \"barcelona_home_goals, \"\\\n",
    "                               \"barcelona_away_goals, \"\\\n",
    "                               \"(real_home_goals+real_away_goals) AS real_total_goals, \"\\\n",
    "                               \"(barcelona_home_goals+barcelona_away_goals) AS barcelona_total_goals \"\\\n",
    "                          \"FROM \"\\\n",
    "                               \"(SELECT \"\\\n",
    "                                    \"season, \"\\\n",
    "                                    \"SUM(CASE WHEN home_team_api_id = 8633 THEN home_team_goal END) AS real_home_goals, \"\\\n",
    "                                    \"SUM(CASE WHEN away_team_api_id = 8633 THEN away_team_goal END) AS real_away_goals, \"\\\n",
    "                                    \"SUM(CASE WHEN home_team_api_id = 8634 THEN home_team_goal END) AS barcelona_home_goals, \"\\\n",
    "                                    \"SUM(CASE WHEN away_team_api_id = 8634 THEN away_team_goal END) AS barcelona_away_goals \"\\\n",
    "                              \"FROM Match \"\\\n",
    "                              \"WHERE (away_team_api_id = 8634 OR home_team_api_id = 8634) \"\\\n",
    "                                    \"AND (away_team_api_id = 8633 OR home_team_api_id = 8633) \"\\\n",
    "                              \"GROUP BY season) AS subq\",con) "
   ]
  },
  {
   "cell_type": "markdown",
   "id": "thorough-divide",
   "metadata": {},
   "source": [
    "If we compare the data frames, we will see that they are identical."
   ]
  },
  {
   "cell_type": "code",
   "execution_count": 42,
   "id": "generous-participant",
   "metadata": {},
   "outputs": [
    {
     "data": {
      "text/html": [
       "<div>\n",
       "<style scoped>\n",
       "    .dataframe tbody tr th:only-of-type {\n",
       "        vertical-align: middle;\n",
       "    }\n",
       "\n",
       "    .dataframe tbody tr th {\n",
       "        vertical-align: top;\n",
       "    }\n",
       "\n",
       "    .dataframe thead th {\n",
       "        text-align: right;\n",
       "    }\n",
       "</style>\n",
       "<table border=\"1\" class=\"dataframe\">\n",
       "  <thead>\n",
       "    <tr style=\"text-align: right;\">\n",
       "      <th></th>\n",
       "      <th>season</th>\n",
       "      <th>real_home_goals</th>\n",
       "      <th>real_away_goals</th>\n",
       "      <th>barcelona_home_goals</th>\n",
       "      <th>barcelona_away_goals</th>\n",
       "      <th>real_total_goals</th>\n",
       "      <th>barcelona_total_goals</th>\n",
       "    </tr>\n",
       "  </thead>\n",
       "  <tbody>\n",
       "    <tr>\n",
       "      <th>0</th>\n",
       "      <td>2008/2009</td>\n",
       "      <td>2</td>\n",
       "      <td>0</td>\n",
       "      <td>2</td>\n",
       "      <td>6</td>\n",
       "      <td>2</td>\n",
       "      <td>8</td>\n",
       "    </tr>\n",
       "    <tr>\n",
       "      <th>1</th>\n",
       "      <td>2009/2010</td>\n",
       "      <td>0</td>\n",
       "      <td>0</td>\n",
       "      <td>1</td>\n",
       "      <td>2</td>\n",
       "      <td>0</td>\n",
       "      <td>3</td>\n",
       "    </tr>\n",
       "    <tr>\n",
       "      <th>2</th>\n",
       "      <td>2010/2011</td>\n",
       "      <td>1</td>\n",
       "      <td>0</td>\n",
       "      <td>5</td>\n",
       "      <td>1</td>\n",
       "      <td>1</td>\n",
       "      <td>6</td>\n",
       "    </tr>\n",
       "    <tr>\n",
       "      <th>3</th>\n",
       "      <td>2011/2012</td>\n",
       "      <td>1</td>\n",
       "      <td>2</td>\n",
       "      <td>1</td>\n",
       "      <td>3</td>\n",
       "      <td>3</td>\n",
       "      <td>4</td>\n",
       "    </tr>\n",
       "    <tr>\n",
       "      <th>4</th>\n",
       "      <td>2012/2013</td>\n",
       "      <td>2</td>\n",
       "      <td>2</td>\n",
       "      <td>2</td>\n",
       "      <td>1</td>\n",
       "      <td>4</td>\n",
       "      <td>3</td>\n",
       "    </tr>\n",
       "    <tr>\n",
       "      <th>5</th>\n",
       "      <td>2013/2014</td>\n",
       "      <td>3</td>\n",
       "      <td>1</td>\n",
       "      <td>2</td>\n",
       "      <td>4</td>\n",
       "      <td>4</td>\n",
       "      <td>6</td>\n",
       "    </tr>\n",
       "    <tr>\n",
       "      <th>6</th>\n",
       "      <td>2014/2015</td>\n",
       "      <td>3</td>\n",
       "      <td>1</td>\n",
       "      <td>2</td>\n",
       "      <td>1</td>\n",
       "      <td>4</td>\n",
       "      <td>3</td>\n",
       "    </tr>\n",
       "    <tr>\n",
       "      <th>7</th>\n",
       "      <td>2015/2016</td>\n",
       "      <td>0</td>\n",
       "      <td>2</td>\n",
       "      <td>1</td>\n",
       "      <td>4</td>\n",
       "      <td>2</td>\n",
       "      <td>5</td>\n",
       "    </tr>\n",
       "  </tbody>\n",
       "</table>\n",
       "</div>"
      ],
      "text/plain": [
       "      season  real_home_goals  real_away_goals  barcelona_home_goals  \\\n",
       "0  2008/2009                2                0                     2   \n",
       "1  2009/2010                0                0                     1   \n",
       "2  2010/2011                1                0                     5   \n",
       "3  2011/2012                1                2                     1   \n",
       "4  2012/2013                2                2                     2   \n",
       "5  2013/2014                3                1                     2   \n",
       "6  2014/2015                3                1                     2   \n",
       "7  2015/2016                0                2                     1   \n",
       "\n",
       "   barcelona_away_goals  real_total_goals  barcelona_total_goals  \n",
       "0                     6                 2                      8  \n",
       "1                     2                 0                      3  \n",
       "2                     1                 1                      6  \n",
       "3                     3                 3                      4  \n",
       "4                     1                 4                      3  \n",
       "5                     4                 4                      6  \n",
       "6                     1                 4                      3  \n",
       "7                     4                 2                      5  "
      ]
     },
     "execution_count": 42,
     "metadata": {},
     "output_type": "execute_result"
    }
   ],
   "source": [
    "goals_pandas  "
   ]
  },
  {
   "cell_type": "code",
   "execution_count": 43,
   "id": "revised-adams",
   "metadata": {},
   "outputs": [
    {
     "data": {
      "text/html": [
       "<div>\n",
       "<style scoped>\n",
       "    .dataframe tbody tr th:only-of-type {\n",
       "        vertical-align: middle;\n",
       "    }\n",
       "\n",
       "    .dataframe tbody tr th {\n",
       "        vertical-align: top;\n",
       "    }\n",
       "\n",
       "    .dataframe thead th {\n",
       "        text-align: right;\n",
       "    }\n",
       "</style>\n",
       "<table border=\"1\" class=\"dataframe\">\n",
       "  <thead>\n",
       "    <tr style=\"text-align: right;\">\n",
       "      <th></th>\n",
       "      <th>season</th>\n",
       "      <th>real_home_goals</th>\n",
       "      <th>real_away_goals</th>\n",
       "      <th>barcelona_home_goals</th>\n",
       "      <th>barcelona_away_goals</th>\n",
       "      <th>real_total_goals</th>\n",
       "      <th>barcelona_total_goals</th>\n",
       "    </tr>\n",
       "  </thead>\n",
       "  <tbody>\n",
       "    <tr>\n",
       "      <th>0</th>\n",
       "      <td>2008/2009</td>\n",
       "      <td>2</td>\n",
       "      <td>0</td>\n",
       "      <td>2</td>\n",
       "      <td>6</td>\n",
       "      <td>2</td>\n",
       "      <td>8</td>\n",
       "    </tr>\n",
       "    <tr>\n",
       "      <th>1</th>\n",
       "      <td>2009/2010</td>\n",
       "      <td>0</td>\n",
       "      <td>0</td>\n",
       "      <td>1</td>\n",
       "      <td>2</td>\n",
       "      <td>0</td>\n",
       "      <td>3</td>\n",
       "    </tr>\n",
       "    <tr>\n",
       "      <th>2</th>\n",
       "      <td>2010/2011</td>\n",
       "      <td>1</td>\n",
       "      <td>0</td>\n",
       "      <td>5</td>\n",
       "      <td>1</td>\n",
       "      <td>1</td>\n",
       "      <td>6</td>\n",
       "    </tr>\n",
       "    <tr>\n",
       "      <th>3</th>\n",
       "      <td>2011/2012</td>\n",
       "      <td>1</td>\n",
       "      <td>2</td>\n",
       "      <td>1</td>\n",
       "      <td>3</td>\n",
       "      <td>3</td>\n",
       "      <td>4</td>\n",
       "    </tr>\n",
       "    <tr>\n",
       "      <th>4</th>\n",
       "      <td>2012/2013</td>\n",
       "      <td>2</td>\n",
       "      <td>2</td>\n",
       "      <td>2</td>\n",
       "      <td>1</td>\n",
       "      <td>4</td>\n",
       "      <td>3</td>\n",
       "    </tr>\n",
       "    <tr>\n",
       "      <th>5</th>\n",
       "      <td>2013/2014</td>\n",
       "      <td>3</td>\n",
       "      <td>1</td>\n",
       "      <td>2</td>\n",
       "      <td>4</td>\n",
       "      <td>4</td>\n",
       "      <td>6</td>\n",
       "    </tr>\n",
       "    <tr>\n",
       "      <th>6</th>\n",
       "      <td>2014/2015</td>\n",
       "      <td>3</td>\n",
       "      <td>1</td>\n",
       "      <td>2</td>\n",
       "      <td>1</td>\n",
       "      <td>4</td>\n",
       "      <td>3</td>\n",
       "    </tr>\n",
       "    <tr>\n",
       "      <th>7</th>\n",
       "      <td>2015/2016</td>\n",
       "      <td>0</td>\n",
       "      <td>2</td>\n",
       "      <td>1</td>\n",
       "      <td>4</td>\n",
       "      <td>2</td>\n",
       "      <td>5</td>\n",
       "    </tr>\n",
       "  </tbody>\n",
       "</table>\n",
       "</div>"
      ],
      "text/plain": [
       "      season  real_home_goals  real_away_goals  barcelona_home_goals  \\\n",
       "0  2008/2009                2                0                     2   \n",
       "1  2009/2010                0                0                     1   \n",
       "2  2010/2011                1                0                     5   \n",
       "3  2011/2012                1                2                     1   \n",
       "4  2012/2013                2                2                     2   \n",
       "5  2013/2014                3                1                     2   \n",
       "6  2014/2015                3                1                     2   \n",
       "7  2015/2016                0                2                     1   \n",
       "\n",
       "   barcelona_away_goals  real_total_goals  barcelona_total_goals  \n",
       "0                     6                 2                      8  \n",
       "1                     2                 0                      3  \n",
       "2                     1                 1                      6  \n",
       "3                     3                 3                      4  \n",
       "4                     1                 4                      3  \n",
       "5                     4                 4                      6  \n",
       "6                     1                 4                      3  \n",
       "7                     4                 2                      5  "
      ]
     },
     "execution_count": 43,
     "metadata": {},
     "output_type": "execute_result"
    }
   ],
   "source": [
    "goals_sql"
   ]
  },
  {
   "cell_type": "markdown",
   "id": "consistent-palace",
   "metadata": {},
   "source": [
    "Let's now visualize the goals the two teams scored in El Clasico matches in different seasons."
   ]
  },
  {
   "cell_type": "code",
   "execution_count": 44,
   "id": "reduced-boulder",
   "metadata": {},
   "outputs": [
    {
     "data": {
      "image/png": "[encoded data removed]",
      "text/plain": [
       "<Figure size 936x360 with 1 Axes>"
      ]
     },
     "metadata": {
      "needs_background": "light"
     },
     "output_type": "display_data"
    }
   ],
   "source": [
    "# Create a Bar plot to compare El Clasico goals in each season\n",
    "f,ax=plt.subplots(figsize=(13,5))\n",
    "x = np.arange(goals_sql.shape[0])\n",
    "ax.set_title('Goals scored in El Clasico matches in different seasons',fontsize=18)\n",
    "ax.bar(x-0.2,goals_sql['real_total_goals'] , 0.3, label='Real Madrid goals')\n",
    "ax.bar(x+0.2, goals_sql['barcelona_total_goals'], 0.3, label='Barcelona goals')\n",
    "ax.set_xticks(x, goals_sql['season'].values,rotation=45)\n",
    "plt.legend(loc='best')\n",
    "plt.xlabel('Season',fontsize=16)\n",
    "plt.ylabel('Goals',fontsize=16)\n",
    "plt.show()"
   ]
  },
  {
   "cell_type": "markdown",
   "id": "isolated-trial",
   "metadata": {},
   "source": [
    "We can see that, in most of the seasons, Barcelona scored more goals in El Clasico matches than Real Madrid.\n",
    "\n",
    "For instance, in the season 2008/2009 Barcelona scored 8 goals in macthes against Real Madrid, whereal Real Madrid scored only\n",
    "two goals in those matches. \n",
    "\n",
    "In the season 2009/2010, Barcelona scored 3 goals in El Clasico matches, while Real Madrid did not\n",
    "score at all.\n",
    "\n",
    "In the season 2010/2011 Barcelona scored 6 goals in El Clasico matches, whereas Real Madrid only scored 1 goal.\n",
    "\n",
    "Also, in 2011/2012 Barcelona scored 4 goals in El Clasico matches, while Real Madrid scored 3 goals.\n",
    "\n",
    "Further, in the season 2013/2014, Barcelona scored 6 goals and Real Madrid only scored 4 goals in El Clasico matches.\n",
    "\n",
    "Finally, in the season 2015/2016, Barcelona scored 5 goals, whereas Real Madrid only scored twice in El Clasico matches.\n",
    "\n",
    "In contrast, there were only two seasons in the period between 2008 and 2016 in which Real Madrid scored more goals\n",
    "than Barcelona: the seasons 2012/2013 and 2014/2015.\n",
    "\n",
    "In the season 2012/2013 Real Madrid scored  4 goals, whereas Barcelona scored 3 goals in that season, and in the season\n",
    "2014/2015, the two team scored the same number of goals in matches agains each other as in the season 2012/2013."
   ]
  },
  {
   "cell_type": "markdown",
   "id": "promising-inside",
   "metadata": {},
   "source": [
    "## Greatest vicrories and greatest defeats of Real Madrid and Barcelona in 2008-2016"
   ]
  },
  {
   "cell_type": "markdown",
   "id": "guided-terry",
   "metadata": {},
   "source": [
    "Now, we will use SQL queries to determine matches in which Real Madrid and Barcelona won or lost with the highest score difference.\n",
    "Those results would mean the greatest victories or the greatest defeats of the teams correspondingly."
   ]
  },
  {
   "cell_type": "markdown",
   "id": "disturbed-database",
   "metadata": {},
   "source": [
    "### Greatest victories of Real Madrid"
   ]
  },
  {
   "cell_type": "code",
   "execution_count": 45,
   "id": "beautiful-progressive",
   "metadata": {},
   "outputs": [],
   "source": [
    "# Create a fata frame containing results of the matches in which Madrid won with the highest difference in score\n",
    "#The results will be ranked from the best to the worst match\n",
    "real_best_matches=pd.read_sql_query(\"WITH home AS ( \"\\\n",
    "                                       \"SELECT m.id, t.team_long_name, \"\\\n",
    "                                         \"CASE WHEN m.home_team_goal > m.away_team_goal THEN 'Real Madrid Win'\"\\\n",
    "                                           \"WHEN m.home_team_goal < m.away_team_goal THEN 'Real Madrid Loss' \"\\\n",
    "                                             \"ELSE 'Tie' END AS outcome \"\\\n",
    "                                       \"FROM Match AS m \"\\\n",
    "                                       \"LEFT JOIN team AS t ON m.home_team_api_id = t.team_api_id), \"\\\n",
    "                                    \"away AS ( \"\\\n",
    "                                       \"SELECT m.id, t.team_long_name, \"\\\n",
    "                                         \"CASE WHEN m.home_team_goal > m.away_team_goal THEN 'Real Madrid Loss' \"\\\n",
    "                                           \"WHEN m.home_team_goal < m.away_team_goal THEN 'Real Madrid Win' \"\\\n",
    "                                             \"ELSE 'Tie' END AS outcome \"\\\n",
    "                                       \"FROM Match AS m \"\\\n",
    "                                       \"LEFT JOIN team AS t ON m.away_team_api_id = t.team_api_id) \"\\\n",
    "                                    \"SELECT DISTINCT \"\\\n",
    "                                          \"date, \"\\\n",
    "                                          \"season, \"\\\n",
    "                                          \"home.team_long_name AS home_team, \"\\\n",
    "                                          \"away.team_long_name AS away_team, \"\\\n",
    "                                          \"m.home_team_goal, m.away_team_goal,\"\\\n",
    "                                          \"RANK() OVER(ORDER BY ABS(home_team_goal - away_team_goal) DESC) as match_rank \"\\\n",
    "                                    \"FROM Match AS m \"\\\n",
    "                                    \"LEFT JOIN home ON m.id = home.id \"\\\n",
    "                                    \"LEFT JOIN away ON m.id = away.id \"\\\n",
    "                                    \"WHERE \"\\\n",
    "                                        \"((home.team_long_name = 'Real Madrid CF' AND home.outcome = 'Real Madrid Win') \"\\\n",
    "                                          \"OR (away.team_long_name = 'Real Madrid CF' AND away.outcome = 'Real Madrid Win')) \",\n",
    "                                     con)"
   ]
  },
  {
   "cell_type": "code",
   "execution_count": 46,
   "id": "tired-fusion",
   "metadata": {},
   "outputs": [
    {
     "data": {
      "text/html": [
       "<div>\n",
       "<style scoped>\n",
       "    .dataframe tbody tr th:only-of-type {\n",
       "        vertical-align: middle;\n",
       "    }\n",
       "\n",
       "    .dataframe tbody tr th {\n",
       "        vertical-align: top;\n",
       "    }\n",
       "\n",
       "    .dataframe thead th {\n",
       "        text-align: right;\n",
       "    }\n",
       "</style>\n",
       "<table border=\"1\" class=\"dataframe\">\n",
       "  <thead>\n",
       "    <tr style=\"text-align: right;\">\n",
       "      <th></th>\n",
       "      <th>date</th>\n",
       "      <th>season</th>\n",
       "      <th>home_team</th>\n",
       "      <th>away_team</th>\n",
       "      <th>home_team_goal</th>\n",
       "      <th>away_team_goal</th>\n",
       "      <th>match_rank</th>\n",
       "    </tr>\n",
       "  </thead>\n",
       "  <tbody>\n",
       "    <tr>\n",
       "      <th>0</th>\n",
       "      <td>2015-04-05 00:00:00</td>\n",
       "      <td>2014/2015</td>\n",
       "      <td>Real Madrid CF</td>\n",
       "      <td>Granada CF</td>\n",
       "      <td>9</td>\n",
       "      <td>1</td>\n",
       "      <td>1</td>\n",
       "    </tr>\n",
       "    <tr>\n",
       "      <th>1</th>\n",
       "      <td>2015-12-20 00:00:00</td>\n",
       "      <td>2015/2016</td>\n",
       "      <td>Real Madrid CF</td>\n",
       "      <td>Rayo Vallecano</td>\n",
       "      <td>10</td>\n",
       "      <td>2</td>\n",
       "      <td>1</td>\n",
       "    </tr>\n",
       "    <tr>\n",
       "      <th>2</th>\n",
       "      <td>2011-03-03 00:00:00</td>\n",
       "      <td>2010/2011</td>\n",
       "      <td>Real Madrid CF</td>\n",
       "      <td>Málaga CF</td>\n",
       "      <td>7</td>\n",
       "      <td>0</td>\n",
       "      <td>3</td>\n",
       "    </tr>\n",
       "    <tr>\n",
       "      <th>3</th>\n",
       "      <td>2011-05-21 00:00:00</td>\n",
       "      <td>2010/2011</td>\n",
       "      <td>Real Madrid CF</td>\n",
       "      <td>UD Almería</td>\n",
       "      <td>8</td>\n",
       "      <td>1</td>\n",
       "      <td>3</td>\n",
       "    </tr>\n",
       "    <tr>\n",
       "      <th>4</th>\n",
       "      <td>2008-09-24 00:00:00</td>\n",
       "      <td>2008/2009</td>\n",
       "      <td>Real Madrid CF</td>\n",
       "      <td>Real Sporting de Gijón</td>\n",
       "      <td>7</td>\n",
       "      <td>1</td>\n",
       "      <td>5</td>\n",
       "    </tr>\n",
       "  </tbody>\n",
       "</table>\n",
       "</div>"
      ],
      "text/plain": [
       "                  date     season       home_team               away_team  \\\n",
       "0  2015-04-05 00:00:00  2014/2015  Real Madrid CF              Granada CF   \n",
       "1  2015-12-20 00:00:00  2015/2016  Real Madrid CF          Rayo Vallecano   \n",
       "2  2011-03-03 00:00:00  2010/2011  Real Madrid CF               Málaga CF   \n",
       "3  2011-05-21 00:00:00  2010/2011  Real Madrid CF              UD Almería   \n",
       "4  2008-09-24 00:00:00  2008/2009  Real Madrid CF  Real Sporting de Gijón   \n",
       "\n",
       "   home_team_goal  away_team_goal  match_rank  \n",
       "0               9               1           1  \n",
       "1              10               2           1  \n",
       "2               7               0           3  \n",
       "3               8               1           3  \n",
       "4               7               1           5  "
      ]
     },
     "execution_count": 46,
     "metadata": {},
     "output_type": "execute_result"
    }
   ],
   "source": [
    "real_best_matches.head()"
   ]
  },
  {
   "cell_type": "markdown",
   "id": "freelance-mortality",
   "metadata": {},
   "source": [
    "We can see that Real Madrid had its greatest victory when the team won against Granada CF 9:1 in the season 2014/2015.\n",
    "We can compare this success of Real Madrid with the time the team won against Rayo Vallecano 10:2 in the season 2015/2016.    "
   ]
  },
  {
   "cell_type": "markdown",
   "id": "funny-customer",
   "metadata": {},
   "source": [
    "### Greatest defeats of Real Madrid"
   ]
  },
  {
   "cell_type": "code",
   "execution_count": 47,
   "id": "catholic-jacksonville",
   "metadata": {},
   "outputs": [],
   "source": [
    "# Create a fata frame containing results of the matches in which Madrid lost with the highest difference in score\n",
    "#The results will be ranked from the worst to the best match\n",
    "real_worst_matches=pd.read_sql_query(\"WITH home AS ( \"\\\n",
    "                                       \"SELECT m.id, t.team_long_name, \"\\\n",
    "                                         \"CASE WHEN m.home_team_goal > m.away_team_goal THEN 'Real Madrid Win'\"\\\n",
    "                                           \"WHEN m.home_team_goal < m.away_team_goal THEN 'Real Madrid Loss' \"\\\n",
    "                                             \"ELSE 'Tie' END AS outcome \"\\\n",
    "                                       \"FROM Match AS m \"\\\n",
    "                                       \"LEFT JOIN team AS t ON m.home_team_api_id = t.team_api_id), \"\\\n",
    "                                    \"away AS ( \"\\\n",
    "                                       \"SELECT m.id, t.team_long_name, \"\\\n",
    "                                         \"CASE WHEN m.home_team_goal > m.away_team_goal THEN 'Real Madrid Loss' \"\\\n",
    "                                           \"WHEN m.home_team_goal < m.away_team_goal THEN 'Real Madrid Win' \"\\\n",
    "                                             \"ELSE 'Tie' END AS outcome \"\\\n",
    "                                       \"FROM Match AS m \"\\\n",
    "                                       \"LEFT JOIN team AS t ON m.away_team_api_id = t.team_api_id) \"\\\n",
    "                                    \"SELECT DISTINCT \"\\\n",
    "                                          \"date, \"\\\n",
    "                                          \"season, \"\\\n",
    "                                          \"home.team_long_name AS home_team, \"\\\n",
    "                                          \"away.team_long_name AS away_team, \"\\\n",
    "                                          \"m.home_team_goal, m.away_team_goal,\"\\\n",
    "                                          \"RANK() OVER(ORDER BY ABS(home_team_goal - away_team_goal) DESC) as match_rank \"\\\n",
    "                                    \"FROM Match AS m \"\\\n",
    "                                    \"LEFT JOIN home ON m.id = home.id \"\\\n",
    "                                    \"LEFT JOIN away ON m.id = away.id \"\\\n",
    "                                    \"WHERE \"\\\n",
    "                                        \"((home.team_long_name = 'Real Madrid CF' AND home.outcome = 'Real Madrid Loss') \"\\\n",
    "                                          \"OR (away.team_long_name = 'Real Madrid CF' AND away.outcome = 'Real Madrid Loss')) \",\n",
    "                                     con)"
   ]
  },
  {
   "cell_type": "code",
   "execution_count": 48,
   "id": "patient-instrumentation",
   "metadata": {},
   "outputs": [
    {
     "data": {
      "text/html": [
       "<div>\n",
       "<style scoped>\n",
       "    .dataframe tbody tr th:only-of-type {\n",
       "        vertical-align: middle;\n",
       "    }\n",
       "\n",
       "    .dataframe tbody tr th {\n",
       "        vertical-align: top;\n",
       "    }\n",
       "\n",
       "    .dataframe thead th {\n",
       "        text-align: right;\n",
       "    }\n",
       "</style>\n",
       "<table border=\"1\" class=\"dataframe\">\n",
       "  <thead>\n",
       "    <tr style=\"text-align: right;\">\n",
       "      <th></th>\n",
       "      <th>date</th>\n",
       "      <th>season</th>\n",
       "      <th>home_team</th>\n",
       "      <th>away_team</th>\n",
       "      <th>home_team_goal</th>\n",
       "      <th>away_team_goal</th>\n",
       "      <th>match_rank</th>\n",
       "    </tr>\n",
       "  </thead>\n",
       "  <tbody>\n",
       "    <tr>\n",
       "      <th>0</th>\n",
       "      <td>2010-11-29 00:00:00</td>\n",
       "      <td>2010/2011</td>\n",
       "      <td>FC Barcelona</td>\n",
       "      <td>Real Madrid CF</td>\n",
       "      <td>5</td>\n",
       "      <td>0</td>\n",
       "      <td>1</td>\n",
       "    </tr>\n",
       "    <tr>\n",
       "      <th>1</th>\n",
       "      <td>2009-05-02 00:00:00</td>\n",
       "      <td>2008/2009</td>\n",
       "      <td>Real Madrid CF</td>\n",
       "      <td>FC Barcelona</td>\n",
       "      <td>2</td>\n",
       "      <td>6</td>\n",
       "      <td>2</td>\n",
       "    </tr>\n",
       "    <tr>\n",
       "      <th>2</th>\n",
       "      <td>2015-02-07 00:00:00</td>\n",
       "      <td>2014/2015</td>\n",
       "      <td>Atlético Madrid</td>\n",
       "      <td>Real Madrid CF</td>\n",
       "      <td>4</td>\n",
       "      <td>0</td>\n",
       "      <td>2</td>\n",
       "    </tr>\n",
       "    <tr>\n",
       "      <th>3</th>\n",
       "      <td>2015-11-21 00:00:00</td>\n",
       "      <td>2015/2016</td>\n",
       "      <td>Real Madrid CF</td>\n",
       "      <td>FC Barcelona</td>\n",
       "      <td>0</td>\n",
       "      <td>4</td>\n",
       "      <td>2</td>\n",
       "    </tr>\n",
       "    <tr>\n",
       "      <th>4</th>\n",
       "      <td>2009-05-09 00:00:00</td>\n",
       "      <td>2008/2009</td>\n",
       "      <td>Valencia CF</td>\n",
       "      <td>Real Madrid CF</td>\n",
       "      <td>3</td>\n",
       "      <td>0</td>\n",
       "      <td>5</td>\n",
       "    </tr>\n",
       "  </tbody>\n",
       "</table>\n",
       "</div>"
      ],
      "text/plain": [
       "                  date     season        home_team       away_team  \\\n",
       "0  2010-11-29 00:00:00  2010/2011     FC Barcelona  Real Madrid CF   \n",
       "1  2009-05-02 00:00:00  2008/2009   Real Madrid CF    FC Barcelona   \n",
       "2  2015-02-07 00:00:00  2014/2015  Atlético Madrid  Real Madrid CF   \n",
       "3  2015-11-21 00:00:00  2015/2016   Real Madrid CF    FC Barcelona   \n",
       "4  2009-05-09 00:00:00  2008/2009      Valencia CF  Real Madrid CF   \n",
       "\n",
       "   home_team_goal  away_team_goal  match_rank  \n",
       "0               5               0           1  \n",
       "1               2               6           2  \n",
       "2               4               0           2  \n",
       "3               0               4           2  \n",
       "4               3               0           5  "
      ]
     },
     "execution_count": 48,
     "metadata": {},
     "output_type": "execute_result"
    }
   ],
   "source": [
    "real_worst_matches.head()"
   ]
  },
  {
   "cell_type": "markdown",
   "id": "agreed-interaction",
   "metadata": {},
   "source": [
    "We can see that three of the five greatest defeats of Real Madrid in 2008-2009 were from Barcelona:\n",
    "    when Barcelona won 5:0, 6:2 and 4:0 in years 2010, 2009 and 2015 correspondingly."
   ]
  },
  {
   "cell_type": "markdown",
   "id": "another-player",
   "metadata": {},
   "source": [
    "### Greatest victories of Barcelona"
   ]
  },
  {
   "cell_type": "code",
   "execution_count": 49,
   "id": "dental-poland",
   "metadata": {},
   "outputs": [],
   "source": [
    "# Create a fata frame containing results of the matches in which Barcelona won with the highest difference in score\n",
    "#The results will be ranked from the best to the worst match\n",
    "barcelona_best_matches=pd.read_sql_query(\"WITH home AS ( \"\\\n",
    "                                              \"SELECT m.id, t.team_long_name, \"\\\n",
    "                                                 \"CASE WHEN m.home_team_goal > m.away_team_goal THEN 'Barcelona Win'\"\\\n",
    "                                                    \"WHEN m.home_team_goal < m.away_team_goal THEN 'Barcelona Loss' \"\\\n",
    "                                                      \"ELSE 'Tie' END AS outcome \"\\\n",
    "                                              \"FROM Match AS m \"\\\n",
    "                                              \"LEFT JOIN team AS t ON m.home_team_api_id = t.team_api_id), \"\\\n",
    "                                           \"away AS ( \"\\\n",
    "                                              \"SELECT m.id, t.team_long_name, \"\\\n",
    "                                                \"CASE WHEN m.home_team_goal > m.away_team_goal THEN 'Barcelona Loss' \"\\\n",
    "                                                   \"WHEN m.home_team_goal < m.away_team_goal THEN 'Barcelona Win' \"\\\n",
    "                                                     \"ELSE 'Tie' END AS outcome \"\\\n",
    "                                              \"FROM Match AS m \"\\\n",
    "                                              \"LEFT JOIN team AS t ON m.away_team_api_id = t.team_api_id) \"\\\n",
    "                                          \"SELECT DISTINCT \"\\\n",
    "                                               \"date, \"\\\n",
    "                                               \"season,\"\\\n",
    "                                               \"home.team_long_name AS home_team, \"\\\n",
    "                                               \"away.team_long_name AS away_team, \"\\\n",
    "                                               \"m.home_team_goal, m.away_team_goal,\"\\\n",
    "                                               \"RANK() OVER(ORDER BY ABS(home_team_goal - away_team_goal) DESC) as match_rank \"\\\n",
    "                                         \"FROM Match AS m \"\\\n",
    "                                         \"LEFT JOIN home ON m.id = home.id \"\\\n",
    "                                         \"LEFT JOIN away ON m.id = away.id \"\\\n",
    "                                         \"WHERE \"\\\n",
    "                                              \"((home.team_long_name = 'FC Barcelona' AND home.outcome = 'Barcelona Win') \"\\\n",
    "                                              \"OR (away.team_long_name = 'FC Barcelona' AND away.outcome = 'Barcelona Win')) \",\n",
    "                                          con)"
   ]
  },
  {
   "cell_type": "code",
   "execution_count": 50,
   "id": "negative-davis",
   "metadata": {},
   "outputs": [
    {
     "data": {
      "text/html": [
       "<div>\n",
       "<style scoped>\n",
       "    .dataframe tbody tr th:only-of-type {\n",
       "        vertical-align: middle;\n",
       "    }\n",
       "\n",
       "    .dataframe tbody tr th {\n",
       "        vertical-align: top;\n",
       "    }\n",
       "\n",
       "    .dataframe thead th {\n",
       "        text-align: right;\n",
       "    }\n",
       "</style>\n",
       "<table border=\"1\" class=\"dataframe\">\n",
       "  <thead>\n",
       "    <tr style=\"text-align: right;\">\n",
       "      <th></th>\n",
       "      <th>date</th>\n",
       "      <th>season</th>\n",
       "      <th>home_team</th>\n",
       "      <th>away_team</th>\n",
       "      <th>home_team_goal</th>\n",
       "      <th>away_team_goal</th>\n",
       "      <th>match_rank</th>\n",
       "    </tr>\n",
       "  </thead>\n",
       "  <tbody>\n",
       "    <tr>\n",
       "      <th>0</th>\n",
       "      <td>2010-11-20 00:00:00</td>\n",
       "      <td>2010/2011</td>\n",
       "      <td>UD Almería</td>\n",
       "      <td>FC Barcelona</td>\n",
       "      <td>0</td>\n",
       "      <td>8</td>\n",
       "      <td>1</td>\n",
       "    </tr>\n",
       "    <tr>\n",
       "      <th>1</th>\n",
       "      <td>2011-09-17 00:00:00</td>\n",
       "      <td>2011/2012</td>\n",
       "      <td>FC Barcelona</td>\n",
       "      <td>CA Osasuna</td>\n",
       "      <td>8</td>\n",
       "      <td>0</td>\n",
       "      <td>1</td>\n",
       "    </tr>\n",
       "    <tr>\n",
       "      <th>2</th>\n",
       "      <td>2015-05-02 00:00:00</td>\n",
       "      <td>2014/2015</td>\n",
       "      <td>Córdoba CF</td>\n",
       "      <td>FC Barcelona</td>\n",
       "      <td>0</td>\n",
       "      <td>8</td>\n",
       "      <td>1</td>\n",
       "    </tr>\n",
       "    <tr>\n",
       "      <th>3</th>\n",
       "      <td>2016-04-20 00:00:00</td>\n",
       "      <td>2015/2016</td>\n",
       "      <td>RC Deportivo de La Coruña</td>\n",
       "      <td>FC Barcelona</td>\n",
       "      <td>0</td>\n",
       "      <td>8</td>\n",
       "      <td>1</td>\n",
       "    </tr>\n",
       "    <tr>\n",
       "      <th>4</th>\n",
       "      <td>2012-04-29 00:00:00</td>\n",
       "      <td>2011/2012</td>\n",
       "      <td>Rayo Vallecano</td>\n",
       "      <td>FC Barcelona</td>\n",
       "      <td>0</td>\n",
       "      <td>7</td>\n",
       "      <td>5</td>\n",
       "    </tr>\n",
       "  </tbody>\n",
       "</table>\n",
       "</div>"
      ],
      "text/plain": [
       "                  date     season                  home_team     away_team  \\\n",
       "0  2010-11-20 00:00:00  2010/2011                 UD Almería  FC Barcelona   \n",
       "1  2011-09-17 00:00:00  2011/2012               FC Barcelona    CA Osasuna   \n",
       "2  2015-05-02 00:00:00  2014/2015                 Córdoba CF  FC Barcelona   \n",
       "3  2016-04-20 00:00:00  2015/2016  RC Deportivo de La Coruña  FC Barcelona   \n",
       "4  2012-04-29 00:00:00  2011/2012             Rayo Vallecano  FC Barcelona   \n",
       "\n",
       "   home_team_goal  away_team_goal  match_rank  \n",
       "0               0               8           1  \n",
       "1               8               0           1  \n",
       "2               0               8           1  \n",
       "3               0               8           1  \n",
       "4               0               7           5  "
      ]
     },
     "execution_count": 50,
     "metadata": {},
     "output_type": "execute_result"
    }
   ],
   "source": [
    "barcelona_best_matches.head()"
   ]
  },
  {
   "cell_type": "markdown",
   "id": "consolidated-atlantic",
   "metadata": {},
   "source": [
    "We can see that Barcelona's greatest wins were when it won with the same result of 8:0 against UD Almeria in 2010, CA Osasuna in 2011,\n",
    "Cordoba CF in 2015 and RC Deportivo de La Coruna in 2016."
   ]
  },
  {
   "cell_type": "markdown",
   "id": "known-custody",
   "metadata": {},
   "source": [
    "### Greatest defeats of Barcelona"
   ]
  },
  {
   "cell_type": "code",
   "execution_count": 51,
   "id": "tested-replication",
   "metadata": {},
   "outputs": [],
   "source": [
    "# Create a fata frame containing results of the matches in which Barcelona lost with the highest difference in score\n",
    "#The results will be ranked from the worst to the best match\n",
    "barcelona_worst_matches=pd.read_sql_query(\"WITH home AS ( \"\\\n",
    "                                              \"SELECT m.id, t.team_long_name, \"\\\n",
    "                                                 \"CASE WHEN m.home_team_goal > m.away_team_goal THEN 'Barcelona Win'\"\\\n",
    "                                                    \"WHEN m.home_team_goal < m.away_team_goal THEN 'Barcelona Loss' \"\\\n",
    "                                                      \"ELSE 'Tie' END AS outcome \"\\\n",
    "                                              \"FROM Match AS m \"\\\n",
    "                                              \"LEFT JOIN team AS t ON m.home_team_api_id = t.team_api_id), \"\\\n",
    "                                           \"away AS ( \"\\\n",
    "                                              \"SELECT m.id, t.team_long_name, \"\\\n",
    "                                                \"CASE WHEN m.home_team_goal > m.away_team_goal THEN 'Barcelona Loss' \"\\\n",
    "                                                   \"WHEN m.home_team_goal < m.away_team_goal THEN 'Barcelona Win' \"\\\n",
    "                                                     \"ELSE 'Tie' END AS outcome \"\\\n",
    "                                              \"FROM Match AS m \"\\\n",
    "                                              \"LEFT JOIN team AS t ON m.away_team_api_id = t.team_api_id) \"\\\n",
    "                                          \"SELECT DISTINCT \"\\\n",
    "                                               \"date, \"\\\n",
    "                                               \"season,\"\\\n",
    "                                               \"home.team_long_name AS home_team, \"\\\n",
    "                                               \"away.team_long_name AS away_team, \"\\\n",
    "                                               \"m.home_team_goal, m.away_team_goal,\"\\\n",
    "                                               \"RANK() OVER(ORDER BY ABS(home_team_goal - away_team_goal) DESC) as match_rank \"\\\n",
    "                                         \"FROM Match AS m \"\\\n",
    "                                         \"LEFT JOIN home ON m.id = home.id \"\\\n",
    "                                         \"LEFT JOIN away ON m.id = away.id \"\\\n",
    "                                         \"WHERE \"\\\n",
    "                                              \"((home.team_long_name = 'FC Barcelona' AND home.outcome = 'Barcelona Loss') \"\\\n",
    "                                              \"OR (away.team_long_name = 'FC Barcelona' AND away.outcome = 'Barcelona Loss')) \",\n",
    "                                          con)"
   ]
  },
  {
   "cell_type": "code",
   "execution_count": 52,
   "id": "geographic-contents",
   "metadata": {},
   "outputs": [
    {
     "data": {
      "text/html": [
       "<div>\n",
       "<style scoped>\n",
       "    .dataframe tbody tr th:only-of-type {\n",
       "        vertical-align: middle;\n",
       "    }\n",
       "\n",
       "    .dataframe tbody tr th {\n",
       "        vertical-align: top;\n",
       "    }\n",
       "\n",
       "    .dataframe thead th {\n",
       "        text-align: right;\n",
       "    }\n",
       "</style>\n",
       "<table border=\"1\" class=\"dataframe\">\n",
       "  <thead>\n",
       "    <tr style=\"text-align: right;\">\n",
       "      <th></th>\n",
       "      <th>date</th>\n",
       "      <th>season</th>\n",
       "      <th>home_team</th>\n",
       "      <th>away_team</th>\n",
       "      <th>home_team_goal</th>\n",
       "      <th>away_team_goal</th>\n",
       "      <th>match_rank</th>\n",
       "    </tr>\n",
       "  </thead>\n",
       "  <tbody>\n",
       "    <tr>\n",
       "      <th>0</th>\n",
       "      <td>2015-09-23 00:00:00</td>\n",
       "      <td>2015/2016</td>\n",
       "      <td>RC Celta de Vigo</td>\n",
       "      <td>FC Barcelona</td>\n",
       "      <td>4</td>\n",
       "      <td>1</td>\n",
       "      <td>1</td>\n",
       "    </tr>\n",
       "    <tr>\n",
       "      <th>1</th>\n",
       "      <td>2010-09-11 00:00:00</td>\n",
       "      <td>2010/2011</td>\n",
       "      <td>FC Barcelona</td>\n",
       "      <td>Hércules Club de Fútbol</td>\n",
       "      <td>0</td>\n",
       "      <td>2</td>\n",
       "      <td>2</td>\n",
       "    </tr>\n",
       "    <tr>\n",
       "      <th>2</th>\n",
       "      <td>2014-02-22 00:00:00</td>\n",
       "      <td>2013/2014</td>\n",
       "      <td>Real Sociedad</td>\n",
       "      <td>FC Barcelona</td>\n",
       "      <td>3</td>\n",
       "      <td>1</td>\n",
       "      <td>2</td>\n",
       "    </tr>\n",
       "    <tr>\n",
       "      <th>3</th>\n",
       "      <td>2014-10-25 00:00:00</td>\n",
       "      <td>2014/2015</td>\n",
       "      <td>Real Madrid CF</td>\n",
       "      <td>FC Barcelona</td>\n",
       "      <td>3</td>\n",
       "      <td>1</td>\n",
       "      <td>2</td>\n",
       "    </tr>\n",
       "    <tr>\n",
       "      <th>4</th>\n",
       "      <td>2008-08-31 00:00:00</td>\n",
       "      <td>2008/2009</td>\n",
       "      <td>CD Numancia</td>\n",
       "      <td>FC Barcelona</td>\n",
       "      <td>1</td>\n",
       "      <td>0</td>\n",
       "      <td>5</td>\n",
       "    </tr>\n",
       "  </tbody>\n",
       "</table>\n",
       "</div>"
      ],
      "text/plain": [
       "                  date     season         home_team                away_team  \\\n",
       "0  2015-09-23 00:00:00  2015/2016  RC Celta de Vigo             FC Barcelona   \n",
       "1  2010-09-11 00:00:00  2010/2011      FC Barcelona  Hércules Club de Fútbol   \n",
       "2  2014-02-22 00:00:00  2013/2014     Real Sociedad             FC Barcelona   \n",
       "3  2014-10-25 00:00:00  2014/2015    Real Madrid CF             FC Barcelona   \n",
       "4  2008-08-31 00:00:00  2008/2009       CD Numancia             FC Barcelona   \n",
       "\n",
       "   home_team_goal  away_team_goal  match_rank  \n",
       "0               4               1           1  \n",
       "1               0               2           2  \n",
       "2               3               1           2  \n",
       "3               3               1           2  \n",
       "4               1               0           5  "
      ]
     },
     "execution_count": 52,
     "metadata": {},
     "output_type": "execute_result"
    }
   ],
   "source": [
    "barcelona_worst_matches.head()"
   ]
  },
  {
   "cell_type": "markdown",
   "id": "outer-indiana",
   "metadata": {},
   "source": [
    "As we can see, the greatest defeat for Barcelona over the period of 2008-2016 was when the team lost 1:4 to Celta de Vigo in 2015.\n",
    "\n",
    "In addition, the matches in wich Barcelona lost 0:2 to Hercules, 1:3 to Real Sociedad and 1:3 to Real Madrid are among the greatest defeats of Barcelona.\n",
    "            \n",
    "Overall, we can conclude that it was really rare for Barcelona to lose with the goal difference greater than one."
   ]
  },
  {
   "cell_type": "markdown",
   "id": "ambient-classic",
   "metadata": {},
   "source": [
    "\n",
    "\n"
   ]
  },
  {
   "cell_type": "markdown",
   "id": "smooth-morris",
   "metadata": {},
   "source": [
    "\n",
    "\n",
    "To conclude, in this notebook, we have seen that Barcelona was more successful in La Liga matches during the years 2008-2016 than\n",
    "its greatest rival - Real Madrid.\n",
    "\n",
    "Barcelona won more matches and lost less matches than Real Madrid, and more importantly, Barcelona won more Champion titles than\n",
    "Real Madrid over that period of time.\n",
    "\n",
    "In addition, Barcelona was slightly more successful in El Clasico matches than Real Madrid: Barcelona won more times and scored\n",
    "more. "
   ]
  }
 ],
 "metadata": {
  "kernelspec": {
   "display_name": "Python 3",
   "language": "python",
   "name": "python3"
  },
  "language_info": {
   "codemirror_mode": {
    "name": "ipython",
    "version": 3
   },
   "file_extension": ".py",
   "mimetype": "text/x-python",
   "name": "python",
   "nbconvert_exporter": "python",
   "pygments_lexer": "ipython3",
   "version": "3.9.2"
  }
 },
 "nbformat": 4,
 "nbformat_minor": 5
}
